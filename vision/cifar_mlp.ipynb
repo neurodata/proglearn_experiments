{
 "cells": [
  {
   "cell_type": "code",
   "execution_count": 14,
   "metadata": {},
   "outputs": [],
   "source": [
    "import numpy as np\n",
    "\n",
    "from tensorflow.keras.layers import Dense, Dropout, BatchNormalization \n",
    "from tensorflow.keras.models import Model, Sequential\n",
    "from tensorflow.keras.utils import to_categorical\n",
    "\n",
    "from keras.optimizers import Adam\n",
    "from keras.callbacks import EarlyStopping\n",
    "\n",
    "from sklearn.metrics import accuracy_score\n",
    "\n",
    "from utils import load_embedded_data\n",
    "\n",
    "from proglearn.forest import UncertaintyForest"
   ]
  },
  {
   "cell_type": "code",
   "execution_count": null,
   "metadata": {},
   "outputs": [],
   "source": [
    "X_train, y_train, X_test, y_test = load_embedded_data(split_train=True, split_test=True)"
   ]
  },
  {
   "cell_type": "code",
   "execution_count": 20,
   "metadata": {},
   "outputs": [],
   "source": [
    "def encode_data(train_x, train_y, epochs=100, verbose=False):\n",
    "    input_dim = train_x.shape[1]\n",
    "    n_classes = len(np.unique(train_y))\n",
    "    \n",
    "    model = Sequential()\n",
    "    \n",
    "    # model.add(Dense(32, activation='relu', input_shape=(input_dim,)))\n",
    "    # model.add(BatchNormalization())\n",
    "    # model.add(Dropout(.25))\n",
    "    \n",
    "    model.add(Dense(n_classes, activation='softmax', input_shape=(input_dim,)))\n",
    "    model.compile(loss='categorical_crossentropy', optimizer=Adam(3e-2), metrics=['accuracy'])\n",
    "\n",
    "    model.fit(\n",
    "        train_x, \n",
    "        to_categorical(train_y, num_classes=n_classes), \n",
    "        epochs=epochs, \n",
    "        verbose=verbose,\n",
    "        validation_split=0.25,\n",
    "        shuffle=True,\n",
    "        batch_size=32,\n",
    "        # callbacks=[EarlyStopping(patience=20, monitor=\"val_loss\")]\n",
    "    )\n",
    "    \n",
    "    return model"
   ]
  },
  {
   "cell_type": "code",
   "execution_count": 21,
   "metadata": {},
   "outputs": [
    {
     "name": "stdout",
     "output_type": "stream",
     "text": [
      "[0 1 2 3 4 5 6 7 8 9]\n",
      "Epoch 1/50\n",
      "118/118 [==============================] - 1s 5ms/step - loss: 1.3219 - accuracy: 0.7416 - val_loss: 4.4559 - val_accuracy: 0.0992\n",
      "Epoch 2/50\n",
      "118/118 [==============================] - 0s 3ms/step - loss: 0.7026 - accuracy: 0.8219 - val_loss: 5.0933 - val_accuracy: 0.1064\n",
      "Epoch 3/50\n",
      "118/118 [==============================] - 0s 3ms/step - loss: 0.5592 - accuracy: 0.8371 - val_loss: 5.4965 - val_accuracy: 0.1248\n",
      "Epoch 4/50\n",
      "118/118 [==============================] - 0s 3ms/step - loss: 0.4916 - accuracy: 0.8525 - val_loss: 5.8283 - val_accuracy: 0.1304\n",
      "Epoch 5/50\n",
      "118/118 [==============================] - 0s 3ms/step - loss: 0.4491 - accuracy: 0.8611 - val_loss: 6.0974 - val_accuracy: 0.1256\n",
      "Epoch 6/50\n",
      "118/118 [==============================] - 0s 3ms/step - loss: 0.4173 - accuracy: 0.8688 - val_loss: 6.2857 - val_accuracy: 0.1416\n",
      "Epoch 7/50\n",
      "118/118 [==============================] - 0s 3ms/step - loss: 0.3941 - accuracy: 0.8800 - val_loss: 6.5058 - val_accuracy: 0.1376\n",
      "Epoch 8/50\n",
      "118/118 [==============================] - 0s 3ms/step - loss: 0.3748 - accuracy: 0.8824 - val_loss: 6.6924 - val_accuracy: 0.1336\n",
      "Epoch 9/50\n",
      "118/118 [==============================] - 0s 3ms/step - loss: 0.3590 - accuracy: 0.8880 - val_loss: 6.8702 - val_accuracy: 0.1344\n",
      "Epoch 10/50\n",
      "118/118 [==============================] - 0s 3ms/step - loss: 0.3440 - accuracy: 0.8901 - val_loss: 7.0057 - val_accuracy: 0.1352\n",
      "Epoch 11/50\n",
      "118/118 [==============================] - 0s 3ms/step - loss: 0.3329 - accuracy: 0.8947 - val_loss: 7.1543 - val_accuracy: 0.1344\n",
      "Epoch 12/50\n",
      "118/118 [==============================] - 0s 3ms/step - loss: 0.3212 - accuracy: 0.8992 - val_loss: 7.2679 - val_accuracy: 0.1328\n",
      "Epoch 13/50\n",
      "118/118 [==============================] - 0s 3ms/step - loss: 0.3116 - accuracy: 0.8979 - val_loss: 7.4140 - val_accuracy: 0.1320\n",
      "Epoch 14/50\n",
      "118/118 [==============================] - 0s 3ms/step - loss: 0.3036 - accuracy: 0.9032 - val_loss: 7.5291 - val_accuracy: 0.1328\n",
      "Epoch 15/50\n",
      "118/118 [==============================] - 0s 3ms/step - loss: 0.2951 - accuracy: 0.9043 - val_loss: 7.6518 - val_accuracy: 0.1360\n",
      "Epoch 16/50\n",
      "118/118 [==============================] - 0s 3ms/step - loss: 0.2880 - accuracy: 0.9059 - val_loss: 7.7744 - val_accuracy: 0.1336\n",
      "Epoch 17/50\n",
      "118/118 [==============================] - 0s 3ms/step - loss: 0.2812 - accuracy: 0.9083 - val_loss: 7.8710 - val_accuracy: 0.1344\n",
      "Epoch 18/50\n",
      "118/118 [==============================] - 0s 3ms/step - loss: 0.2751 - accuracy: 0.9077 - val_loss: 7.9690 - val_accuracy: 0.1368\n",
      "Epoch 19/50\n",
      "118/118 [==============================] - 0s 3ms/step - loss: 0.2692 - accuracy: 0.9157 - val_loss: 8.0889 - val_accuracy: 0.1352\n",
      "Epoch 20/50\n",
      "118/118 [==============================] - 0s 3ms/step - loss: 0.2631 - accuracy: 0.9136 - val_loss: 8.2103 - val_accuracy: 0.1336\n",
      "Epoch 21/50\n",
      "118/118 [==============================] - 0s 3ms/step - loss: 0.2583 - accuracy: 0.9152 - val_loss: 8.2946 - val_accuracy: 0.1352\n",
      "Epoch 22/50\n",
      "118/118 [==============================] - 0s 3ms/step - loss: 0.2532 - accuracy: 0.9187 - val_loss: 8.3916 - val_accuracy: 0.1360\n",
      "Epoch 23/50\n",
      "118/118 [==============================] - 0s 3ms/step - loss: 0.2491 - accuracy: 0.9181 - val_loss: 8.5160 - val_accuracy: 0.1320\n",
      "Epoch 24/50\n",
      "118/118 [==============================] - 0s 4ms/step - loss: 0.2443 - accuracy: 0.9211 - val_loss: 8.5978 - val_accuracy: 0.1344\n",
      "Epoch 25/50\n",
      "118/118 [==============================] - 0s 3ms/step - loss: 0.2396 - accuracy: 0.9240 - val_loss: 8.7001 - val_accuracy: 0.1368\n",
      "Epoch 26/50\n",
      "118/118 [==============================] - 0s 3ms/step - loss: 0.2350 - accuracy: 0.9259 - val_loss: 8.8086 - val_accuracy: 0.1296\n",
      "Epoch 27/50\n",
      "118/118 [==============================] - 0s 3ms/step - loss: 0.2321 - accuracy: 0.9261 - val_loss: 8.8825 - val_accuracy: 0.1328\n",
      "Epoch 28/50\n",
      "118/118 [==============================] - 0s 3ms/step - loss: 0.2292 - accuracy: 0.9269 - val_loss: 8.9659 - val_accuracy: 0.1336\n",
      "Epoch 29/50\n",
      "118/118 [==============================] - 0s 3ms/step - loss: 0.2245 - accuracy: 0.9285 - val_loss: 9.0760 - val_accuracy: 0.1336\n",
      "Epoch 30/50\n",
      "118/118 [==============================] - 0s 3ms/step - loss: 0.2215 - accuracy: 0.9307 - val_loss: 9.1497 - val_accuracy: 0.1336\n",
      "Epoch 31/50\n",
      "118/118 [==============================] - 0s 3ms/step - loss: 0.2179 - accuracy: 0.9320 - val_loss: 9.2420 - val_accuracy: 0.1368\n",
      "Epoch 32/50\n",
      "118/118 [==============================] - 0s 3ms/step - loss: 0.2142 - accuracy: 0.9299 - val_loss: 9.3228 - val_accuracy: 0.1336\n",
      "Epoch 33/50\n",
      "118/118 [==============================] - 0s 3ms/step - loss: 0.2117 - accuracy: 0.9331 - val_loss: 9.4227 - val_accuracy: 0.1344\n",
      "Epoch 34/50\n",
      "118/118 [==============================] - 0s 3ms/step - loss: 0.2085 - accuracy: 0.9347 - val_loss: 9.5246 - val_accuracy: 0.1336\n",
      "Epoch 35/50\n",
      "118/118 [==============================] - 0s 3ms/step - loss: 0.2062 - accuracy: 0.9347 - val_loss: 9.6179 - val_accuracy: 0.1320\n",
      "Epoch 36/50\n",
      "118/118 [==============================] - 0s 3ms/step - loss: 0.2030 - accuracy: 0.9363 - val_loss: 9.6812 - val_accuracy: 0.1360\n",
      "Epoch 37/50\n",
      "118/118 [==============================] - 0s 3ms/step - loss: 0.2002 - accuracy: 0.9371 - val_loss: 9.7805 - val_accuracy: 0.1304\n",
      "Epoch 38/50\n",
      "118/118 [==============================] - 0s 3ms/step - loss: 0.1980 - accuracy: 0.9357 - val_loss: 9.8620 - val_accuracy: 0.1336\n",
      "Epoch 39/50\n",
      "118/118 [==============================] - 0s 3ms/step - loss: 0.1950 - accuracy: 0.9376 - val_loss: 9.9694 - val_accuracy: 0.1304\n",
      "Epoch 40/50\n",
      "118/118 [==============================] - 0s 3ms/step - loss: 0.1939 - accuracy: 0.9392 - val_loss: 10.0154 - val_accuracy: 0.1336\n",
      "Epoch 41/50\n",
      "118/118 [==============================] - 0s 3ms/step - loss: 0.1902 - accuracy: 0.9397 - val_loss: 10.1274 - val_accuracy: 0.1304\n",
      "Epoch 42/50\n",
      "118/118 [==============================] - 0s 3ms/step - loss: 0.1880 - accuracy: 0.9387 - val_loss: 10.2163 - val_accuracy: 0.1328\n",
      "Epoch 43/50\n",
      "118/118 [==============================] - 0s 3ms/step - loss: 0.1856 - accuracy: 0.9395 - val_loss: 10.2843 - val_accuracy: 0.1320\n",
      "Epoch 44/50\n",
      "118/118 [==============================] - 0s 3ms/step - loss: 0.1834 - accuracy: 0.9419 - val_loss: 10.3961 - val_accuracy: 0.1320\n",
      "Epoch 45/50\n",
      "118/118 [==============================] - 0s 3ms/step - loss: 0.1814 - accuracy: 0.9445 - val_loss: 10.4651 - val_accuracy: 0.1320\n",
      "Epoch 46/50\n",
      "118/118 [==============================] - 0s 4ms/step - loss: 0.1794 - accuracy: 0.9413 - val_loss: 10.5578 - val_accuracy: 0.1360\n",
      "Epoch 47/50\n",
      "118/118 [==============================] - 0s 3ms/step - loss: 0.1775 - accuracy: 0.9405 - val_loss: 10.6252 - val_accuracy: 0.1344\n",
      "Epoch 48/50\n",
      "118/118 [==============================] - 0s 3ms/step - loss: 0.1751 - accuracy: 0.9429 - val_loss: 10.7231 - val_accuracy: 0.1320\n",
      "Epoch 49/50\n",
      "118/118 [==============================] - 0s 3ms/step - loss: 0.1732 - accuracy: 0.9432 - val_loss: 10.8122 - val_accuracy: 0.1312\n",
      "Epoch 50/50\n",
      "118/118 [==============================] - 0s 3ms/step - loss: 0.1706 - accuracy: 0.9443 - val_loss: 10.8739 - val_accuracy: 0.1312\n"
     ]
    }
   ],
   "source": [
    "train_x = X_train[0]\n",
    "train_y = y_train[0]\n",
    "\n",
    "print(np.unique(train_y))\n",
    "\n",
    "model = encode_data(train_x, train_y, epochs=50, verbose=True)"
   ]
  },
  {
   "cell_type": "code",
   "execution_count": 22,
   "metadata": {},
   "outputs": [
    {
     "name": "stdout",
     "output_type": "stream",
     "text": [
      "Accuracy: 0.664\n"
     ]
    }
   ],
   "source": [
    "test_x = X_test[0]\n",
    "test_y = y_test[0]\n",
    "\n",
    "pred_y = np.argmax(model.predict(test_x), axis=1)\n",
    "print(\"Accuracy:\", accuracy_score(pred_y, test_y))"
   ]
  },
  {
   "cell_type": "code",
   "execution_count": 19,
   "metadata": {},
   "outputs": [
    {
     "name": "stderr",
     "output_type": "stream",
     "text": [
      "/home/ronak/pl/lib/python3.8/site-packages/sklearn/utils/validation.py:73: DataConversionWarning: A column-vector y was passed when a 1d array was expected. Please change the shape of y to (n_samples, ), for example using ravel().\n",
      "  return f(**kwargs)\n",
      "/home/ronak/pl/lib/python3.8/site-packages/sklearn/utils/validation.py:73: DataConversionWarning: A column-vector y was passed when a 1d array was expected. Please change the shape of y to (n_samples, ), for example using ravel().\n",
      "  return f(**kwargs)\n",
      "/home/ronak/pl/lib/python3.8/site-packages/sklearn/utils/validation.py:73: DataConversionWarning: A column-vector y was passed when a 1d array was expected. Please change the shape of y to (n_samples, ), for example using ravel().\n",
      "  return f(**kwargs)\n",
      "/home/ronak/pl/lib/python3.8/site-packages/sklearn/utils/validation.py:73: DataConversionWarning: A column-vector y was passed when a 1d array was expected. Please change the shape of y to (n_samples, ), for example using ravel().\n",
      "  return f(**kwargs)\n",
      "/home/ronak/pl/lib/python3.8/site-packages/sklearn/utils/validation.py:73: DataConversionWarning: A column-vector y was passed when a 1d array was expected. Please change the shape of y to (n_samples, ), for example using ravel().\n",
      "  return f(**kwargs)\n",
      "/home/ronak/pl/lib/python3.8/site-packages/sklearn/utils/validation.py:73: DataConversionWarning: A column-vector y was passed when a 1d array was expected. Please change the shape of y to (n_samples, ), for example using ravel().\n",
      "  return f(**kwargs)\n",
      "/home/ronak/pl/lib/python3.8/site-packages/sklearn/utils/validation.py:73: DataConversionWarning: A column-vector y was passed when a 1d array was expected. Please change the shape of y to (n_samples, ), for example using ravel().\n",
      "  return f(**kwargs)\n",
      "/home/ronak/pl/lib/python3.8/site-packages/sklearn/utils/validation.py:73: DataConversionWarning: A column-vector y was passed when a 1d array was expected. Please change the shape of y to (n_samples, ), for example using ravel().\n",
      "  return f(**kwargs)\n",
      "/home/ronak/pl/lib/python3.8/site-packages/sklearn/utils/validation.py:73: DataConversionWarning: A column-vector y was passed when a 1d array was expected. Please change the shape of y to (n_samples, ), for example using ravel().\n",
      "  return f(**kwargs)\n",
      "/home/ronak/pl/lib/python3.8/site-packages/sklearn/utils/validation.py:73: DataConversionWarning: A column-vector y was passed when a 1d array was expected. Please change the shape of y to (n_samples, ), for example using ravel().\n",
      "  return f(**kwargs)\n"
     ]
    },
    {
     "name": "stdout",
     "output_type": "stream",
     "text": [
      "Accuracy: 0.871\n"
     ]
    }
   ],
   "source": [
    "uf = UncertaintyForest(n_estimators=10)\n",
    "uf.fit(train_x, train_y)\n",
    "\n",
    "pred_y = uf.predict(test_x)\n",
    "print(\"Accuracy:\", accuracy_score(pred_y, test_y))"
   ]
  },
  {
   "cell_type": "code",
   "execution_count": null,
   "metadata": {},
   "outputs": [],
   "source": []
  }
 ],
 "metadata": {
  "kernelspec": {
   "display_name": "Python 3",
   "language": "python",
   "name": "python3"
  },
  "language_info": {
   "codemirror_mode": {
    "name": "ipython",
    "version": 3
   },
   "file_extension": ".py",
   "mimetype": "text/x-python",
   "name": "python",
   "nbconvert_exporter": "python",
   "pygments_lexer": "ipython3",
   "version": "3.8.2"
  }
 },
 "nbformat": 4,
 "nbformat_minor": 4
}
