{
 "cells": [
  {
   "cell_type": "code",
   "execution_count": 1,
   "metadata": {},
   "outputs": [],
   "source": [
    "import numpy as np\n",
    "import pickle\n",
    "import matplotlib.pyplot as plt\n",
    "\n",
    "from sklearn.metrics import accuracy_score\n",
    "\n",
    "from utils import load_embedded_data"
   ]
  },
  {
   "cell_type": "code",
   "execution_count": 2,
   "metadata": {},
   "outputs": [
    {
     "name": "stdout",
     "output_type": "stream",
     "text": [
      "X_train shape: (10, 5000, 1000)\n",
      "y_train shape: (10, 5000, 1)\n",
      "X_test shape: (10000, 1000)\n",
      "y_test shape: (10000, 1)\n",
      "X_train shape: (10, 5000, 1000)\n",
      "y_train shape: (10, 5000, 1)\n",
      "X_test shape: (10, 1000, 1000)\n",
      "y_test shape: (10, 1000, 1)\n"
     ]
    }
   ],
   "source": [
    "X_train, y_train, X_test, y_test = load_embedded_data(split_train=True, split_test=False)\n",
    "X_train, y_train, X_test_split, y_test_split = load_embedded_data(split_train=True, split_test=True)"
   ]
  },
  {
   "cell_type": "code",
   "execution_count": 3,
   "metadata": {},
   "outputs": [],
   "source": [
    "lf = pickle.load(open(\"output/lf_task_10_small.p\", \"rb\"))"
   ]
  },
  {
   "cell_type": "code",
   "execution_count": 10,
   "metadata": {},
   "outputs": [
    {
     "name": "stdout",
     "output_type": "stream",
     "text": [
      "Testing task: 0\n",
      "Testing task: 1\n",
      "Testing task: 2\n",
      "Testing task: 3\n",
      "Testing task: 4\n",
      "Testing task: 5\n",
      "Testing task: 6\n",
      "Testing task: 7\n",
      "Testing task: 8\n",
      "Testing task: 9\n"
     ]
    }
   ],
   "source": [
    "# Get task conditional probabilities.\n",
    "for t in range(10):\n",
    "    print(\"Testing task:\", t)\n",
    "    task_cond_probs_t = lf.predict_proba(X_test, t)\n",
    "\n",
    "    if t == 0:\n",
    "        task_cond_probs = task_cond_probs_t\n",
    "    else:\n",
    "        task_cond_probs = np.concatenate((task_cond_probs, task_cond_probs_t), axis=1)\n",
    "\n",
    "pickle.dump(task_cond_probs, open(\"output/task_cond_probs_small.p\", \"wb\"))"
   ]
  },
  {
   "cell_type": "code",
   "execution_count": 11,
   "metadata": {},
   "outputs": [
    {
     "name": "stdout",
     "output_type": "stream",
     "text": [
      "Task conditional probs shape: (10000, 100)\n"
     ]
    }
   ],
   "source": [
    "task_cond_probs = pickle.load(open(\"output/task_cond_probs_small.p\", \"rb\"))\n",
    "\n",
    "# Should be n_test = 10*1000 by 10*10 = 100\n",
    "print(\"Task conditional probs shape:\", task_cond_probs.shape)"
   ]
  },
  {
   "cell_type": "code",
   "execution_count": 15,
   "metadata": {},
   "outputs": [
    {
     "name": "stdout",
     "output_type": "stream",
     "text": [
      "TASK 0\n",
      "----------------\n",
      "Test accuracy:  0.802\n",
      "TASK 1\n",
      "----------------\n",
      "Test accuracy:  0.752\n",
      "TASK 2\n",
      "----------------\n",
      "Test accuracy:  0.769\n",
      "TASK 3\n",
      "----------------\n",
      "Test accuracy:  0.757\n",
      "TASK 4\n",
      "----------------\n",
      "Test accuracy:  0.737\n",
      "TASK 5\n",
      "----------------\n",
      "Test accuracy:  0.686\n",
      "TASK 6\n",
      "----------------\n",
      "Test accuracy:  0.625\n",
      "TASK 7\n",
      "----------------\n",
      "Test accuracy:  0.735\n",
      "TASK 8\n",
      "----------------\n",
      "Test accuracy:  0.761\n",
      "TASK 9\n",
      "----------------\n",
      "Test accuracy:  0.8\n"
     ]
    }
   ],
   "source": [
    "# Within task accuracy.\n",
    "task_aware_acc = []\n",
    "for t in range(10):\n",
    "    print(\"TASK\", t)\n",
    "    print(\"----------------\")\n",
    "    \n",
    "    data_start, data_end = t * 1000, (t+1) * 1000\n",
    "    classes_start, classes_end = t * 10, (t+1) * 10\n",
    "    \n",
    "    posterior = task_cond_probs[data_start : data_end, classes_start : classes_end]\n",
    "    y_pred = np.argmax(posterior, axis = 1)\n",
    "    y_true = np.mod(y_test_split[t], 10)\n",
    "    acc = accuracy_score(y_true, y_pred)\n",
    "    task_aware_acc.append(acc)\n",
    "    print(\"Test accuracy: \", acc)\n",
    "pickle.dump(np.mean(task_aware_acc), open(\"output/task_aware_acc_small.p\", \"wb\"))"
   ]
  },
  {
   "cell_type": "code",
   "execution_count": 16,
   "metadata": {},
   "outputs": [
    {
     "name": "stdout",
     "output_type": "stream",
     "text": [
      "Accuracy of argmax_{y, t} p(y | x, t): 0.2414\n"
     ]
    }
   ],
   "source": [
    "y_pred = np.argmax(task_cond_probs, axis = 1)\n",
    "\n",
    "unweighted_acc = accuracy_score(y_test, y_pred)\n",
    "\n",
    "pickle.dump(unweighted_acc, open(\"output/unweighted_acc_small.p\", \"wb\"))\n",
    "\n",
    "print(\"Accuracy of argmax_{y, t} p(y | x, t):\", unweighted_acc)"
   ]
  },
  {
   "cell_type": "code",
   "execution_count": 17,
   "metadata": {},
   "outputs": [
    {
     "name": "stdout",
     "output_type": "stream",
     "text": [
      "priors shape: (10000, 10)\n",
      "task_cond_probs shape: (10000, 100)\n",
      "y_test shape: (10000, 1)\n"
     ]
    }
   ],
   "source": [
    "priors = pickle.load(open(\"output/task_priors_small.p\", \"rb\"))\n",
    "\n",
    "# Should be 10*n by 10 (num_tasks), where n is the number of points per task (1000) \n",
    "print(\"priors shape:\", priors.shape)\n",
    "print(\"task_cond_probs shape:\", task_cond_probs.shape)\n",
    "print(\"y_test shape:\", y_test.shape)"
   ]
  },
  {
   "cell_type": "code",
   "execution_count": 18,
   "metadata": {},
   "outputs": [
    {
     "name": "stdout",
     "output_type": "stream",
     "text": [
      "X_train shape: (50000, 1000)\n",
      "y_train shape: (50000, 1)\n",
      "X_test shape: (10000, 1000)\n",
      "y_test shape: (10000, 1)\n",
      "(10000, 10)\n",
      "[0 1 2 3 4 5 6 7 8 9]\n",
      "Accuracy of argmax_{t} p(t | x): 0.478\n"
     ]
    }
   ],
   "source": [
    "prior_pred = np.argmax(priors, axis=1)\n",
    "X_train, t_train, X_test, t_test = load_embedded_data(task_prior=True)\n",
    "\n",
    "print(priors.shape)\n",
    "print(np.unique(t_test))\n",
    "\n",
    "prior_pred_acc = accuracy_score(prior_pred, t_test)\n",
    "print(\"Accuracy of argmax_{t} p(t | x):\", prior_pred_acc)"
   ]
  },
  {
   "cell_type": "code",
   "execution_count": 19,
   "metadata": {},
   "outputs": [],
   "source": [
    "n_test = 10000\n",
    "n_classes = 100\n",
    "\n",
    "posterior = np.zeros((n_test, n_classes))\n",
    "prior_pred = np.argmax(priors, axis=1)\n",
    "\n",
    "for i in range(n_test):\n",
    "    for j in range(n_classes):\n",
    "        posterior[i, j] = task_cond_probs[i, j] * priors[i, j // 10]"
   ]
  },
  {
   "cell_type": "code",
   "execution_count": 20,
   "metadata": {},
   "outputs": [
    {
     "name": "stdout",
     "output_type": "stream",
     "text": [
      "Accuracy of argmax_y sum_t p(y | x, t) p(t | x): 0.4188\n"
     ]
    }
   ],
   "source": [
    "y_pred_weighted = np.argmax(posterior, axis=1)\n",
    "\n",
    "weighted_acc = accuracy_score(y_test, y_pred_weighted)\n",
    "\n",
    "pickle.dump(weighted_acc, open(\"output/weighted_acc_small.p\", \"wb\"))\n",
    "\n",
    "print(\"Accuracy of argmax_y sum_t p(y | x, t) p(t | x):\", weighted_acc)"
   ]
  },
  {
   "cell_type": "code",
   "execution_count": 23,
   "metadata": {},
   "outputs": [
    {
     "name": "stdout",
     "output_type": "stream",
     "text": [
      "Task 0 accuracy: 0.808000.\n",
      "Task 1 accuracy: 0.789000.\n",
      "Task 2 accuracy: 0.822000.\n",
      "Task 3 accuracy: 0.787000.\n",
      "Task 4 accuracy: 0.779000.\n",
      "Task 5 accuracy: 0.728000.\n",
      "Task 6 accuracy: 0.697000.\n",
      "Task 7 accuracy: 0.763000.\n",
      "Task 8 accuracy: 0.820000.\n",
      "Task 9 accuracy: 0.774000.\n"
     ]
    }
   ],
   "source": [
    "# Average single task accuracy\n",
    "\n",
    "single_task_acc = []\n",
    "for t in range(10):\n",
    "    y_pred_t = lf.predict(X_test_split[t], t, transformer_ids = [t])\n",
    "    # y_true = np.mod(y_test_split[t], 10)\n",
    "    y_true = y_test_split[t]\n",
    "    acc = accuracy_score(y_true, y_pred_t)\n",
    "    single_task_acc.append(acc)\n",
    "    print(\"Task %d accuracy: %f.\" % (t, acc))\n",
    "    \n",
    "pickle.dump(single_task_acc, open(\"output/single_task_acc_small.p\", \"wb\"))"
   ]
  },
  {
   "cell_type": "code",
   "execution_count": 30,
   "metadata": {},
   "outputs": [],
   "source": [
    "te_array = (1 - np.array(single_task_acc)) / (1 - np.array(task_aware_acc))\n",
    "\n",
    "pickle.dump(te_array, open(\"output/te_array_small.p\", \"wb\"))"
   ]
  },
  {
   "cell_type": "code",
   "execution_count": 25,
   "metadata": {},
   "outputs": [
    {
     "name": "stdout",
     "output_type": "stream",
     "text": [
      "Split-CIFAR 10x10:\n",
      "-----------------------------------------\n",
      "n_estimators = 300, n_train = 5000\n",
      "Task 0: UF acc: 0.808000; LF acc: 0.802000\n",
      "Task 1: UF acc: 0.789000; LF acc: 0.752000\n",
      "Task 2: UF acc: 0.822000; LF acc: 0.769000\n",
      "Task 3: UF acc: 0.787000; LF acc: 0.757000\n",
      "Task 4: UF acc: 0.779000; LF acc: 0.737000\n",
      "Task 5: UF acc: 0.728000; LF acc: 0.686000\n",
      "Task 6: UF acc: 0.697000; LF acc: 0.625000\n",
      "Task 7: UF acc: 0.763000; LF acc: 0.735000\n",
      "Task 8: UF acc: 0.820000; LF acc: 0.761000\n",
      "Task 9: UF acc: 0.774000; LF acc: 0.800000\n"
     ]
    }
   ],
   "source": [
    "print(\"Split-CIFAR 10x10:\")\n",
    "print(\"-----------------------------------------\")\n",
    "print(\"n_estimators = 300, n_train = 5000\")\n",
    "for t in range(10):\n",
    "    print('Task %d: UF acc: %f; LF acc: %f' % (t, single_task_acc[t], task_aware_acc[t]))"
   ]
  },
  {
   "cell_type": "code",
   "execution_count": 31,
   "metadata": {},
   "outputs": [],
   "source": [
    "def plot_te():\n",
    "    x = np.arange(10)\n",
    "    \n",
    "    te_array = pickle.load(open(\"output/te_array_small.p\", \"rb\"))\n",
    "\n",
    "    ax = plt.subplot(111)\n",
    "    ax.bar(x, te_array, width=0.2, color='gray', align='center')\n",
    "    \n",
    "    ax.set_xticks(x)\n",
    "    # ax.set_xticklabels([('Task %d' % t) for t in range(10)])\n",
    "    \n",
    "    ax.set_xlabel(\"Task\")\n",
    "    ax.set_ylabel(\"Transfer Efficiency\")\n",
    "    ax.set_ylim(0, 2)\n",
    "    \n",
    "    ax.axhline(y=1, linestyle='--', color = 'k')\n",
    "\n",
    "    ax.set_title(\"L2F+ResNet50 Encoded Split-CIFAR, n_trees=100, n_train=500\")\n",
    "    plt.savefig(\"te_fig.pdf\", bbox_inches = \"tight\")\n",
    "    plt.show()"
   ]
  },
  {
   "cell_type": "code",
   "execution_count": 32,
   "metadata": {},
   "outputs": [
    {
     "data": {
      "image/png": "[encoded data removed]",
      "text/plain": [
       "<Figure size 432x288 with 1 Axes>"
      ]
     },
     "metadata": {
      "needs_background": "light"
     },
     "output_type": "display_data"
    }
   ],
   "source": [
    "plot_te()"
   ]
  },
  {
   "cell_type": "code",
   "execution_count": 5,
   "metadata": {},
   "outputs": [],
   "source": [
    "def plot_result():\n",
    "    x = np.array([0, 1, 2, 3, 4, 5])\n",
    "    \n",
    "    cifar100_acc = pickle.load(open(\"output/cifar100_lf_acc_small.p\", \"rb\"))\n",
    "    unweighted_acc = pickle.load(open(\"output/unweighted_acc_small.p\", \"rb\"))\n",
    "    weighted_acc = pickle.load(open(\"output/weighted_acc_small.p\", \"rb\"))\n",
    "    task_aware_acc_mean = np.mean(pickle.load(open(\"output/task_aware_acc_small.p\", \"rb\")))\n",
    "    single_task_acc_mean = np.mean(pickle.load(open(\"output/single_task_acc_small.p\", \"rb\")))\n",
    "    negative_label_acc = 0.3712\n",
    "    \n",
    "    accs = [cifar100_acc, unweighted_acc, weighted_acc, negative_label_acc, task_aware_acc_mean, single_task_acc_mean]\n",
    "\n",
    "    ax = plt.subplot(111)\n",
    "    ax.bar(x, accs, width=0.2, color='k', align='center')\n",
    "    \n",
    "    ax.set_xticks(x)\n",
    "    ax.set_xticklabels(['100 Class', 'Unweighted', 'Weighted', 'NOTA', 'Task Aware', 'Single Task'])\n",
    "    \n",
    "    ax.set_ylabel(\"Accuracy on CIFAR 100\")\n",
    "    ax.set_ylim(0, 1)\n",
    "    \n",
    "    ax.axhline(y=0.01, linestyle='--', color = 'k', label = 'Chance')\n",
    "    ax.legend(loc = 'upper right')\n",
    "\n",
    "    plt.savefig(\"cifar100_task_obl_fig.pdf\", bbox_inches = \"tight\")\n",
    "    plt.show()"
   ]
  },
  {
   "cell_type": "code",
   "execution_count": 6,
   "metadata": {},
   "outputs": [
    {
     "data": {
      "image/png": "[encoded data removed]",
      "text/plain": [
       "<Figure size 432x288 with 1 Axes>"
      ]
     },
     "metadata": {
      "needs_background": "light"
     },
     "output_type": "display_data"
    }
   ],
   "source": [
    "plot_result()"
   ]
  },
  {
   "cell_type": "code",
   "execution_count": null,
   "metadata": {},
   "outputs": [],
   "source": []
  }
 ],
 "metadata": {
  "kernelspec": {
   "display_name": "Python 3",
   "language": "python",
   "name": "python3"
  },
  "language_info": {
   "codemirror_mode": {
    "name": "ipython",
    "version": 3
   },
   "file_extension": ".py",
   "mimetype": "text/x-python",
   "name": "python",
   "nbconvert_exporter": "python",
   "pygments_lexer": "ipython3",
   "version": "3.8.2"
  }
 },
 "nbformat": 4,
 "nbformat_minor": 4
}
