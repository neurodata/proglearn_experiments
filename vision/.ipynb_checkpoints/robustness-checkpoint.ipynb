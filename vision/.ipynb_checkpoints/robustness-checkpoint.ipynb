{
 "cells": [
  {
   "cell_type": "code",
   "execution_count": 23,
   "metadata": {},
   "outputs": [],
   "source": [
    "import numpy as np\n",
    "import pickle\n",
    "\n",
    "from proglearn.voters import TreeClassificationVoter\n",
    "from proglearn.deciders import SimpleAverage\n",
    "\n",
    "from sklearn.metrics import accuracy_score\n",
    "\n",
    "from utils import load_embedded_data"
   ]
  },
  {
   "cell_type": "code",
   "execution_count": 2,
   "metadata": {},
   "outputs": [
    {
     "name": "stdout",
     "output_type": "stream",
     "text": [
      "X_train shape: (10, 5000, 1000)\n",
      "y_train shape: (10, 5000, 1)\n",
      "X_test shape: (10, 1000, 1000)\n",
      "y_test shape: (10, 1000, 1)\n"
     ]
    }
   ],
   "source": [
    "X_train, y_train, X_test, y_test = load_embedded_data(split_train=True, split_test=True)"
   ]
  },
  {
   "cell_type": "code",
   "execution_count": 9,
   "metadata": {},
   "outputs": [],
   "source": [
    "lf = pickle.load(open(\"output/lf_task_10.p\", \"rb\"))"
   ]
  },
  {
   "cell_type": "code",
   "execution_count": 3,
   "metadata": {},
   "outputs": [],
   "source": [
    "# For each task\n",
    "# Check the performance of... \n",
    "\n",
    "# UF (LF with transformer ids = t)\n",
    "# LF (all transformers)\n",
    "# The best out of either of them.\n",
    "# The best out of UF, LF, some random ones with UF and LF in the mix."
   ]
  },
  {
   "cell_type": "code",
   "execution_count": 25,
   "metadata": {},
   "outputs": [],
   "source": [
    "def sample_transformer_ids():\n",
    "    transformer_ids = []\n",
    "    for t in range(10):\n",
    "        if np.random.binomial(1, 0.5):\n",
    "            transformer_ids.append(t)\n",
    "    return transformer_ids"
   ]
  },
  {
   "cell_type": "code",
   "execution_count": 36,
   "metadata": {},
   "outputs": [],
   "source": [
    "def get_te(task_id, num_candidates = 10, verbose = False):\n",
    "    \n",
    "    train_x = X_train[task_id][0:4500]\n",
    "    train_y = y_train[task_id][0:4500]\n",
    "    \n",
    "    val_x = X_train[task_id][4500:]\n",
    "    val_y = y_train[task_id][4500:]\n",
    "    \n",
    "    test_y = y_test[task_id]\n",
    "    test_x = X_test[task_id]\n",
    "    \n",
    "    # Method 1: UF\n",
    "    if verbose: print(\"Running Method 1: UF...\")\n",
    "    uf_pred = lf.predict(test_x, task_id, transformer_ids = [task_id])\n",
    "    uf_acc = accuracy_score(uf_pred, test_y)\n",
    "    \n",
    "    # Method 2: LF\n",
    "    if verbose: print(\"Running Method 2: LF...\")\n",
    "    lf_pred = lf.predict(test_x, task_id)\n",
    "    lf_acc = accuracy_score(lf_pred, test_y)\n",
    "    \n",
    "    # Method 3: Pick the best on the training set between LF and UF.\n",
    "    if verbose: print(\"Running Method 3: One-vs-All (train)...\")\n",
    "    lf_train_acc = accuracy_score(lf.predict(train_x, task_id), train_y)\n",
    "    uf_train_acc = accuracy_score(lf.predict(train_x, task_id, transformer_ids = [task_id]), train_y)\n",
    "    if uf_train_acc > lf_train_acc:\n",
    "        ova_train_acc = uf_acc\n",
    "        ova_train_transformers = [task_id]\n",
    "    else:\n",
    "        ova_train_acc = lf_acc\n",
    "        ova_train_transformers = np.arange(10)\n",
    "    \n",
    "    \n",
    "    # Method 4: Pick the best on validation set between UF and LF.\n",
    "    if verbose: print(\"Running Method 4: One-vs-All (val)...\")\n",
    "    lf_val_acc = accuracy_score(lf.predict(val_x, task_id), val_y)\n",
    "    uf_val_acc = accuracy_score(lf.predict(val_x, task_id, transformer_ids = [task_id]), val_y)\n",
    "    if uf_val_acc > lf_val_acc:\n",
    "        ova_val_acc = uf_acc\n",
    "        ova_val_transformers = [task_id]\n",
    "    else:\n",
    "        ova_val_acc = lf_acc\n",
    "        ova_val_transformers = np.arange(10)\n",
    "    \n",
    "    \n",
    "    # Method 5: Sample the best transformers based on the training set.\n",
    "    if verbose: print(\"Running Method 5: Sample (train)...\")\n",
    "    best_acc = ova_train_acc\n",
    "    best_transformer_ids = ova_train_transformers\n",
    "    for c in range(num_candidates):\n",
    "        transformer_ids = sample_transformer_ids()\n",
    "        acc = accuracy_score(lf.predict(train_x, task_id, transformer_ids = transformer_ids), train_y)\n",
    "        if acc > best_acc:\n",
    "            best_acc = acc\n",
    "            best_transformer_ids = transformer_ids\n",
    "    sample_train_acc = accuracy_score(lf.predict(test_x, task_id, transformer_ids = best_transformer_ids), test_y)\n",
    "    sample_train_transformed_ids = best_transformer_ids\n",
    "            \n",
    "    \n",
    "    # Methpd 6: Sample the best transformers based on the validation set.\n",
    "    if verbose: print(\"Running Method 6: Sample (val)...\")\n",
    "    best_acc = ova_val_acc\n",
    "    best_transformer_ids = ova_val_transformers\n",
    "    for c in range(num_candidates):\n",
    "        transformer_ids = sample_transformer_ids()\n",
    "        acc = accuracy_score(lf.predict(val_x, task_id, transformer_ids = transformer_ids), val_y)\n",
    "        if acc > best_acc:\n",
    "            best_acc = acc\n",
    "            best_transformer_ids = transformer_ids\n",
    "    sample_val_acc = accuracy_score(lf.predict(test_x, task_id, transformer_ids = best_transformer_ids), test_y)\n",
    "    sample_val_transformed_ids = best_transformer_ids\n",
    "    \n",
    "    results = {\n",
    "        'lf_te' : (1 - uf_acc) / (1 - lf_acc),\n",
    "        'ova_train_te' : (1 - uf_acc) / (1 - ova_train_acc),\n",
    "        'ova_val_te' : (1 - uf_acc) / (1 - ova_val_acc),\n",
    "        'sample_train_te' : (1 - uf_acc) / (1 - sample_train_acc),\n",
    "        'sample_val_te' : (1 - uf_acc) / (1 - sample_val_acc)\n",
    "    }\n",
    "    \n",
    "    pickle.dump(results, open(\"output/robust_result_%d.p\" % task_id, \"wb\"))\n",
    "    \n",
    "    print(\"Task %d\" % task_id)\n",
    "    print(\"--------------------\")\n",
    "    print(results)"
   ]
  },
  {
   "cell_type": "code",
   "execution_count": 38,
   "metadata": {},
   "outputs": [
    {
     "name": "stdout",
     "output_type": "stream",
     "text": [
      "Running Method 1: UF...\n",
      "Running Method 2: LF...\n",
      "Running Method 3: One-vs-All (train)...\n",
      "Running Method 4: One-vs-All (val)...\n",
      "Running Method 5: Sample (train)...\n",
      "Running Method 6: Sample (val)...\n"
     ]
    },
    {
     "ename": "ValueError",
     "evalue": "The truth value of an array with more than one element is ambiguous. Use a.any() or a.all()",
     "output_type": "error",
     "traceback": [
      "\u001b[0;31m---------------------------------------------------------------------------\u001b[0m",
      "\u001b[0;31mValueError\u001b[0m                                Traceback (most recent call last)",
      "\u001b[0;32m<ipython-input-38-987593c9c6c1>\u001b[0m in \u001b[0;36m<module>\u001b[0;34m\u001b[0m\n\u001b[0;32m----> 1\u001b[0;31m \u001b[0mget_te\u001b[0m\u001b[0;34m(\u001b[0m\u001b[0;36m0\u001b[0m\u001b[0;34m,\u001b[0m \u001b[0mverbose\u001b[0m\u001b[0;34m=\u001b[0m\u001b[0;32mTrue\u001b[0m\u001b[0;34m)\u001b[0m\u001b[0;34m\u001b[0m\u001b[0;34m\u001b[0m\u001b[0m\n\u001b[0m",
      "\u001b[0;32m<ipython-input-36-d5ccf69ddb09>\u001b[0m in \u001b[0;36mget_te\u001b[0;34m(task_id, num_candidates, verbose)\u001b[0m\n\u001b[1;32m     68\u001b[0m             \u001b[0mbest_acc\u001b[0m \u001b[0;34m=\u001b[0m \u001b[0macc\u001b[0m\u001b[0;34m\u001b[0m\u001b[0;34m\u001b[0m\u001b[0m\n\u001b[1;32m     69\u001b[0m             \u001b[0mbest_transformer_ids\u001b[0m \u001b[0;34m=\u001b[0m \u001b[0mtransformer_ids\u001b[0m\u001b[0;34m\u001b[0m\u001b[0;34m\u001b[0m\u001b[0m\n\u001b[0;32m---> 70\u001b[0;31m     \u001b[0msample_val_acc\u001b[0m \u001b[0;34m=\u001b[0m \u001b[0maccuracy_score\u001b[0m\u001b[0;34m(\u001b[0m\u001b[0mlf\u001b[0m\u001b[0;34m.\u001b[0m\u001b[0mpredict\u001b[0m\u001b[0;34m(\u001b[0m\u001b[0mtest_x\u001b[0m\u001b[0;34m,\u001b[0m \u001b[0mtask_id\u001b[0m\u001b[0;34m,\u001b[0m \u001b[0mtransformer_ids\u001b[0m \u001b[0;34m=\u001b[0m \u001b[0mbest_transformer_ids\u001b[0m\u001b[0;34m)\u001b[0m\u001b[0;34m,\u001b[0m \u001b[0mtest_y\u001b[0m\u001b[0;34m)\u001b[0m\u001b[0;34m\u001b[0m\u001b[0;34m\u001b[0m\u001b[0m\n\u001b[0m\u001b[1;32m     71\u001b[0m     \u001b[0msample_val_transformed_ids\u001b[0m \u001b[0;34m=\u001b[0m \u001b[0mbest_transformer_ids\u001b[0m\u001b[0;34m\u001b[0m\u001b[0;34m\u001b[0m\u001b[0m\n\u001b[1;32m     72\u001b[0m \u001b[0;34m\u001b[0m\u001b[0m\n",
      "\u001b[0;32m~/progressive-learning/proglearn/forest.py\u001b[0m in \u001b[0;36mpredict\u001b[0;34m(self, X, task_id, transformer_ids)\u001b[0m\n\u001b[1;32m     30\u001b[0m \u001b[0;34m\u001b[0m\u001b[0m\n\u001b[1;32m     31\u001b[0m     \u001b[0;32mdef\u001b[0m \u001b[0mpredict\u001b[0m\u001b[0;34m(\u001b[0m\u001b[0mself\u001b[0m\u001b[0;34m,\u001b[0m \u001b[0mX\u001b[0m\u001b[0;34m,\u001b[0m \u001b[0mtask_id\u001b[0m\u001b[0;34m,\u001b[0m \u001b[0mtransformer_ids\u001b[0m\u001b[0;34m=\u001b[0m\u001b[0;32mNone\u001b[0m\u001b[0;34m)\u001b[0m\u001b[0;34m:\u001b[0m\u001b[0;34m\u001b[0m\u001b[0;34m\u001b[0m\u001b[0m\n\u001b[0;32m---> 32\u001b[0;31m         \u001b[0;32mreturn\u001b[0m \u001b[0mself\u001b[0m\u001b[0;34m.\u001b[0m\u001b[0mpl\u001b[0m\u001b[0;34m.\u001b[0m\u001b[0mpredict\u001b[0m\u001b[0;34m(\u001b[0m\u001b[0mX\u001b[0m\u001b[0;34m,\u001b[0m \u001b[0mtask_id\u001b[0m\u001b[0;34m,\u001b[0m \u001b[0mtransformer_ids\u001b[0m\u001b[0;34m=\u001b[0m\u001b[0mtransformer_ids\u001b[0m\u001b[0;34m)\u001b[0m\u001b[0;34m\u001b[0m\u001b[0;34m\u001b[0m\u001b[0m\n\u001b[0m\u001b[1;32m     33\u001b[0m \u001b[0;34m\u001b[0m\u001b[0m\n\u001b[1;32m     34\u001b[0m     \u001b[0;32mdef\u001b[0m \u001b[0mpredict_proba\u001b[0m\u001b[0;34m(\u001b[0m\u001b[0mself\u001b[0m\u001b[0;34m,\u001b[0m \u001b[0mX\u001b[0m\u001b[0;34m,\u001b[0m \u001b[0mtask_id\u001b[0m\u001b[0;34m,\u001b[0m \u001b[0mtransformer_ids\u001b[0m\u001b[0;34m=\u001b[0m\u001b[0;32mNone\u001b[0m\u001b[0;34m)\u001b[0m\u001b[0;34m:\u001b[0m\u001b[0;34m\u001b[0m\u001b[0;34m\u001b[0m\u001b[0m\n",
      "\u001b[0;32m~/progressive-learning/proglearn/progressive_learner.py\u001b[0m in \u001b[0;36mpredict\u001b[0;34m(self, X, task_id, transformer_ids)\u001b[0m\n\u001b[1;32m    429\u001b[0m \u001b[0;34m\u001b[0m\u001b[0m\n\u001b[1;32m    430\u001b[0m     \u001b[0;32mdef\u001b[0m \u001b[0mpredict\u001b[0m\u001b[0;34m(\u001b[0m\u001b[0mself\u001b[0m\u001b[0;34m,\u001b[0m \u001b[0mX\u001b[0m\u001b[0;34m,\u001b[0m \u001b[0mtask_id\u001b[0m\u001b[0;34m,\u001b[0m \u001b[0mtransformer_ids\u001b[0m\u001b[0;34m=\u001b[0m\u001b[0;32mNone\u001b[0m\u001b[0;34m)\u001b[0m\u001b[0;34m:\u001b[0m\u001b[0;34m\u001b[0m\u001b[0;34m\u001b[0m\u001b[0m\n\u001b[0;32m--> 431\u001b[0;31m         return self.task_id_to_decider[task_id].predict(\n\u001b[0m\u001b[1;32m    432\u001b[0m             \u001b[0mX\u001b[0m\u001b[0;34m,\u001b[0m \u001b[0mtransformer_ids\u001b[0m\u001b[0;34m=\u001b[0m\u001b[0mtransformer_ids\u001b[0m\u001b[0;34m\u001b[0m\u001b[0;34m\u001b[0m\u001b[0m\n\u001b[1;32m    433\u001b[0m         )\n",
      "\u001b[0;32m~/progressive-learning/proglearn/deciders.py\u001b[0m in \u001b[0;36mpredict\u001b[0;34m(self, X, transformer_ids)\u001b[0m\n\u001b[1;32m     60\u001b[0m \u001b[0;34m\u001b[0m\u001b[0m\n\u001b[1;32m     61\u001b[0m     \u001b[0;32mdef\u001b[0m \u001b[0mpredict\u001b[0m\u001b[0;34m(\u001b[0m\u001b[0mself\u001b[0m\u001b[0;34m,\u001b[0m \u001b[0mX\u001b[0m\u001b[0;34m,\u001b[0m \u001b[0mtransformer_ids\u001b[0m\u001b[0;34m=\u001b[0m\u001b[0;32mNone\u001b[0m\u001b[0;34m)\u001b[0m\u001b[0;34m:\u001b[0m\u001b[0;34m\u001b[0m\u001b[0;34m\u001b[0m\u001b[0m\n\u001b[0;32m---> 62\u001b[0;31m         \u001b[0mvote_overall\u001b[0m \u001b[0;34m=\u001b[0m \u001b[0mself\u001b[0m\u001b[0;34m.\u001b[0m\u001b[0mpredict_proba\u001b[0m\u001b[0;34m(\u001b[0m\u001b[0mX\u001b[0m\u001b[0;34m,\u001b[0m \u001b[0mtransformer_ids\u001b[0m\u001b[0;34m=\u001b[0m\u001b[0mtransformer_ids\u001b[0m\u001b[0;34m)\u001b[0m\u001b[0;34m\u001b[0m\u001b[0;34m\u001b[0m\u001b[0m\n\u001b[0m\u001b[1;32m     63\u001b[0m \u001b[0;34m\u001b[0m\u001b[0m\n\u001b[1;32m     64\u001b[0m         \u001b[0;32mif\u001b[0m \u001b[0mself\u001b[0m\u001b[0;34m.\u001b[0m\u001b[0mmultilabel\u001b[0m\u001b[0;34m:\u001b[0m\u001b[0;34m\u001b[0m\u001b[0;34m\u001b[0m\u001b[0m\n",
      "\u001b[0;32m~/progressive-learning/proglearn/deciders.py\u001b[0m in \u001b[0;36mpredict_proba\u001b[0;34m(self, X, transformer_ids)\u001b[0m\n\u001b[1;32m     43\u001b[0m         \u001b[0mvote_per_transformer_id\u001b[0m \u001b[0;34m=\u001b[0m \u001b[0;34m[\u001b[0m\u001b[0;34m]\u001b[0m\u001b[0;34m\u001b[0m\u001b[0;34m\u001b[0m\u001b[0m\n\u001b[1;32m     44\u001b[0m         for transformer_id in (\n\u001b[0;32m---> 45\u001b[0;31m             \u001b[0mtransformer_ids\u001b[0m \u001b[0;32mif\u001b[0m \u001b[0mtransformer_ids\u001b[0m \u001b[0;32melse\u001b[0m \u001b[0mself\u001b[0m\u001b[0;34m.\u001b[0m\u001b[0mtransformer_id_to_voters\u001b[0m\u001b[0;34m.\u001b[0m\u001b[0mkeys\u001b[0m\u001b[0;34m(\u001b[0m\u001b[0;34m)\u001b[0m\u001b[0;34m\u001b[0m\u001b[0;34m\u001b[0m\u001b[0m\n\u001b[0m\u001b[1;32m     46\u001b[0m         ):\n\u001b[1;32m     47\u001b[0m             \u001b[0mvote_per_bag_id\u001b[0m \u001b[0;34m=\u001b[0m \u001b[0;34m[\u001b[0m\u001b[0;34m]\u001b[0m\u001b[0;34m\u001b[0m\u001b[0;34m\u001b[0m\u001b[0m\n",
      "\u001b[0;31mValueError\u001b[0m: The truth value of an array with more than one element is ambiguous. Use a.any() or a.all()"
     ]
    }
   ],
   "source": [
    "get_te(0, verbose=True)"
   ]
  },
  {
   "cell_type": "code",
   "execution_count": null,
   "metadata": {},
   "outputs": [],
   "source": []
  }
 ],
 "metadata": {
  "kernelspec": {
   "display_name": "Python 3",
   "language": "python",
   "name": "python3"
  },
  "language_info": {
   "codemirror_mode": {
    "name": "ipython",
    "version": 3
   },
   "file_extension": ".py",
   "mimetype": "text/x-python",
   "name": "python",
   "nbconvert_exporter": "python",
   "pygments_lexer": "ipython3",
   "version": "3.8.2"
  }
 },
 "nbformat": 4,
 "nbformat_minor": 4
}
