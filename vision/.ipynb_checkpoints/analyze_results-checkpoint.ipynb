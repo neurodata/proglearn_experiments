{
 "cells": [
  {
   "cell_type": "code",
   "execution_count": 12,
   "metadata": {},
   "outputs": [],
   "source": [
    "import numpy as np\n",
    "import pickle\n",
    "\n",
    "from sklearn.metrics import accuracy_score\n",
    "\n",
    "from utils import load_data"
   ]
  },
  {
   "cell_type": "markdown",
   "metadata": {},
   "source": [
    "Here, we inspect the classification performance of maximizing $p(y \\mid x, t)$ over $y$ and $t$."
   ]
  },
  {
   "cell_type": "code",
   "execution_count": 4,
   "metadata": {},
   "outputs": [
    {
     "name": "stdout",
     "output_type": "stream",
     "text": [
      "test_y shape: (10, 1000)\n",
      "[ 0  1  2  3  4  5  6  7  8  9 10 11 12 13 14 15 16 17 18 19 20 21 22 23\n",
      " 24 25 26 27 28 29 30 31 32 33 34 35 36 37 38 39 40 41 42 43 44 45 46 47\n",
      " 48 49 50 51 52 53 54 55 56 57 58 59 60 61 62 63 64 65 66 67 68 69 70 71\n",
      " 72 73 74 75 76 77 78 79 80 81 82 83 84 85 86 87 88 89 90 91 92 93 94 95\n",
      " 96 97 98 99]\n",
      "probs shape: (10000, 100)\n"
     ]
    }
   ],
   "source": [
    "# First dimension is the task number.\n",
    "test_y = pickle.load(open(\"output/test_y.p\", \"rb\"))\n",
    "print(\"test_y shape:\", test_y.shape)\n",
    "test_y = test_y.reshape((test_y.size))\n",
    "\n",
    "classes = pickle.load(open(\"output/classes.p\", \"rb\"))\n",
    "print(classes)\n",
    " \n",
    "# First ten columns are is the posterior for task 0\n",
    "# next ten are for task 1, etc.\n",
    "probs = pickle.load(open(\"output/probs.p\", \"rb\"))\n",
    "print(\"probs shape:\", probs.shape)"
   ]
  },
  {
   "cell_type": "code",
   "execution_count": 5,
   "metadata": {},
   "outputs": [
    {
     "name": "stdout",
     "output_type": "stream",
     "text": [
      "Accuracy:  0.1921\n"
     ]
    }
   ],
   "source": [
    "pred_y = np.argmax(probs, axis=1)\n",
    "acc = accuracy_score(test_y, pred_y)\n",
    "print(\"Accuracy: \", acc)"
   ]
  },
  {
   "cell_type": "code",
   "execution_count": 27,
   "metadata": {},
   "outputs": [
    {
     "name": "stdout",
     "output_type": "stream",
     "text": [
      "train_x shape: (10, 5000, 32, 32, 3)\n",
      "train_y shape: (10, 5000)\n",
      "test_x shape: (10, 1000, 32, 32, 3)\n",
      "test_y shape: (10, 1000)\n"
     ]
    }
   ],
   "source": [
    "train_x, train_y, test_x, test_y = load_data()"
   ]
  },
  {
   "cell_type": "code",
   "execution_count": 28,
   "metadata": {},
   "outputs": [],
   "source": [
    "def check_single_task_acc(test_y, probs):\n",
    "    points_per_task = 1000\n",
    "    classes_per_task = 10\n",
    "        \n",
    "    for t in range(10):        \n",
    "        \n",
    "        posterior = probs[t * points_per_task : (t + 1) * points_per_task, t * classes_per_task : (t + 1) * classes_per_task]\n",
    "        y_pred = np.argmax(posterior, axis=1)\n",
    "        y_true = np.mod(test_y[t], 10)\n",
    "        \n",
    "        acc = accuracy_score(y_true, y_pred)\n",
    "        print(\"Task %d Accuracy: %f\" % (t, acc))"
   ]
  },
  {
   "cell_type": "code",
   "execution_count": 29,
   "metadata": {},
   "outputs": [
    {
     "name": "stdout",
     "output_type": "stream",
     "text": [
      "Task 0 Accuracy: 0.541000\n",
      "Task 1 Accuracy: 0.521000\n",
      "Task 2 Accuracy: 0.577000\n",
      "Task 3 Accuracy: 0.502000\n",
      "Task 4 Accuracy: 0.547000\n",
      "Task 5 Accuracy: 0.553000\n",
      "Task 6 Accuracy: 0.628000\n",
      "Task 7 Accuracy: 0.567000\n",
      "Task 8 Accuracy: 0.523000\n",
      "Task 9 Accuracy: 0.598000\n"
     ]
    }
   ],
   "source": [
    "check_single_task_acc(test_y, probs)"
   ]
  },
  {
   "cell_type": "code",
   "execution_count": null,
   "metadata": {},
   "outputs": [],
   "source": []
  }
 ],
 "metadata": {
  "kernelspec": {
   "display_name": "Python 3",
   "language": "python",
   "name": "python3"
  },
  "language_info": {
   "codemirror_mode": {
    "name": "ipython",
    "version": 3
   },
   "file_extension": ".py",
   "mimetype": "text/x-python",
   "name": "python",
   "nbconvert_exporter": "python",
   "pygments_lexer": "ipython3",
   "version": "3.8.2"
  }
 },
 "nbformat": 4,
 "nbformat_minor": 2
}
