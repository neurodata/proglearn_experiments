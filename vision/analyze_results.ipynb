{
 "cells": [
  {
   "cell_type": "code",
   "execution_count": 19,
   "metadata": {},
   "outputs": [],
   "source": [
    "import numpy as np\n",
    "import pickle"
   ]
  },
  {
   "cell_type": "markdown",
   "metadata": {},
   "source": [
    "Here, we inspect the classification performance of maximizing $p(y \\mid x, t)$ over $y$ and $t$."
   ]
  },
  {
   "cell_type": "code",
   "execution_count": 23,
   "metadata": {},
   "outputs": [
    {
     "name": "stdout",
     "output_type": "stream",
     "text": [
      "test_y shape: (10, 1000)\n",
      "[ 0  1  2  3  4  5  6  7  8  9 10 11 12 13 14 15 16 17 18 19 20 21 22 23\n",
      " 24 25 26 27 28 29 30 31 32 33 34 35 36 37 38 39 40 41 42 43 44 45 46 47\n",
      " 48 49 50 51 52 53 54 55 56 57 58 59 60 61 62 63 64 65 66 67 68 69 70 71\n",
      " 72 73 74 75 76 77 78 79 80 81 82 83 84 85 86 87 88 89 90 91 92 93 94 95\n",
      " 96 97 98 99]\n",
      "probs shape: (1000, 100)\n"
     ]
    }
   ],
   "source": [
    "# First dimension is the task number.\n",
    "test_y = pickle.load(open(\"output/test_y.p\", \"rb\"))\n",
    "print(\"test_y shape:\", test_y.shape)\n",
    "test_y = test_y.reshape((test_y.size))\n",
    "\n",
    "classes = pickle.load(open(\"output/classes.p\", \"rb\"))\n",
    "print(classes)\n",
    " \n",
    "# First ten columns are is the posterior for task 0\n",
    "# next ten are for task 1, etc.\n",
    "probs = pickle.load(open(\"output/probs.p\", \"rb\"))\n",
    "print(\"probs shape:\", probs.shape)"
   ]
  },
  {
   "cell_type": "code",
   "execution_count": 22,
   "metadata": {},
   "outputs": [
    {
     "name": "stdout",
     "output_type": "stream",
     "text": [
      "()\n",
      "  (0, 0)\t1.0\n",
      "  (1, 0)\t1.0\n",
      "  (2, 0)\t1.0\n",
      "  (3, 0)\t1.0\n",
      "  (4, 0)\t1.0\n",
      "  (5, 0)\t1.0\n",
      "  (6, 0)\t1.0\n",
      "  (7, 0)\t1.0\n",
      "  (8, 0)\t1.0\n",
      "  (9, 0)\t1.0\n",
      "  (10, 1)\t1.0\n",
      "  (11, 1)\t1.0\n",
      "  (12, 1)\t1.0\n",
      "  (13, 1)\t1.0\n",
      "  (14, 1)\t1.0\n",
      "  (15, 1)\t1.0\n",
      "  (16, 1)\t1.0\n",
      "  (17, 1)\t1.0\n",
      "  (18, 1)\t1.0\n",
      "  (19, 1)\t1.0\n",
      "  (20, 2)\t1.0\n",
      "  (21, 2)\t1.0\n",
      "  (22, 2)\t1.0\n",
      "  (23, 2)\t1.0\n",
      "  (24, 2)\t1.0\n",
      "  :\t:\n",
      "  (9975, 97)\t1.0\n",
      "  (9976, 97)\t1.0\n",
      "  (9977, 97)\t1.0\n",
      "  (9978, 97)\t1.0\n",
      "  (9979, 97)\t1.0\n",
      "  (9980, 98)\t1.0\n",
      "  (9981, 98)\t1.0\n",
      "  (9982, 98)\t1.0\n",
      "  (9983, 98)\t1.0\n",
      "  (9984, 98)\t1.0\n",
      "  (9985, 98)\t1.0\n",
      "  (9986, 98)\t1.0\n",
      "  (9987, 98)\t1.0\n",
      "  (9988, 98)\t1.0\n",
      "  (9989, 98)\t1.0\n",
      "  (9990, 99)\t1.0\n",
      "  (9991, 99)\t1.0\n",
      "  (9992, 99)\t1.0\n",
      "  (9993, 99)\t1.0\n",
      "  (9994, 99)\t1.0\n",
      "  (9995, 99)\t1.0\n",
      "  (9996, 99)\t1.0\n",
      "  (9997, 99)\t1.0\n",
      "  (9998, 99)\t1.0\n",
      "  (9999, 99)\t1.0\n"
     ]
    }
   ],
   "source": [
    "\n"
   ]
  },
  {
   "cell_type": "code",
   "execution_count": null,
   "metadata": {},
   "outputs": [],
   "source": []
  }
 ],
 "metadata": {
  "kernelspec": {
   "display_name": "Python 3.7.5 64-bit ('l2m': conda)",
   "language": "python",
   "name": "python37564bitl2mcondab912ae89ee7548a78f14919a63aa85dd"
  },
  "language_info": {
   "codemirror_mode": {
    "name": "ipython",
    "version": 3
   },
   "file_extension": ".py",
   "mimetype": "text/x-python",
   "name": "python",
   "nbconvert_exporter": "python",
   "pygments_lexer": "ipython3",
   "version": "3.7.5"
  }
 },
 "nbformat": 4,
 "nbformat_minor": 2
}
