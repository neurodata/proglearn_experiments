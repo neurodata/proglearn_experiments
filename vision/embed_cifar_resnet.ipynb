{
 "cells": [
  {
   "cell_type": "code",
   "execution_count": 1,
   "metadata": {},
   "outputs": [
    {
     "name": "stderr",
     "output_type": "stream",
     "text": [
      "Using TensorFlow backend.\n"
     ]
    }
   ],
   "source": [
    "from tensorflow.keras.applications.resnet50 import ResNet50, preprocess_input\n",
    "from tensorflow.keras.models import Model, Sequential\n",
    "from keras.datasets import cifar100\n",
    "import numpy as np\n",
    "import pickle\n",
    "import cv2"
   ]
  },
  {
   "cell_type": "code",
   "execution_count": null,
   "metadata": {},
   "outputs": [],
   "source": [
    "#scale up cifar images\n",
    "(x_train, y_train), (x_test, y_test) = cifar100.load_data()\n",
    "#Pre-process the data\n",
    "x_train = np.array( [ preprocess_input(cv2.resize(x,(224,224))) for x in x_train])\n",
    "x_test =  np.array( [ preprocess_input(cv2.resize(x,(224,224))) for x in x_test])"
   ]
  },
  {
   "cell_type": "code",
   "execution_count": null,
   "metadata": {},
   "outputs": [],
   "source": [
    "resnet_model = ResNet50(weights='imagenet', include_top=True, input_shape=(224, 224, 3))\n",
    "# remove the output layer\n",
    "resnet_model.layers.pop()\n",
    "model = Model(inputs=resnet_model.inputs, outputs=resnet_model.layers[-1].output)"
   ]
  },
  {
   "cell_type": "code",
   "execution_count": null,
   "metadata": {},
   "outputs": [],
   "source": [
    "p_train = model.predict(x_train)\n",
    "p_test = model.predict(x_test)\n",
    "print(p_train.shape, p_test.shape)"
   ]
  },
  {
   "cell_type": "code",
   "execution_count": null,
   "metadata": {},
   "outputs": [],
   "source": [
    "with open('./data/cifar_resnet50_embed.p', 'wb') as handle:\n",
    "    pickle.dump((p_train, y_train, p_test, y_test), handle)')"
   ]
  }
 ],
 "metadata": {
  "kernelspec": {
   "display_name": "Python 3",
   "language": "python",
   "name": "python3"
  },
  "language_info": {
   "codemirror_mode": {
    "name": "ipython",
    "version": 3
   },
   "file_extension": ".py",
   "mimetype": "text/x-python",
   "name": "python",
   "nbconvert_exporter": "python",
   "pygments_lexer": "ipython3",
   "version": "3.6.7"
  }
 },
 "nbformat": 4,
 "nbformat_minor": 2
}
