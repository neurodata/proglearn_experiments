{
 "cells": [
  {
   "cell_type": "markdown",
   "metadata": {},
   "source": [
    "The goal of this notebook is to try some experiments to assess the baseline performance of single task (city) performance on post COVID data. This gives us an indication on what to improve upon."
   ]
  },
  {
   "cell_type": "code",
   "execution_count": 1,
   "metadata": {},
   "outputs": [],
   "source": [
    "import numpy as np\n",
    "import pandas as pd\n",
    "import matplotlib.pyplot as plt\n",
    "\n",
    "from joblib import Parallel, delayed\n",
    "\n",
    "from sklearn.utils.validation import check_X_y, check_array\n",
    "from sklearn.linear_model import Ridge\n",
    "from sklearn.preprocessing import scale\n",
    "from sklearn.ensemble import RandomForestRegressor"
   ]
  },
  {
   "cell_type": "code",
   "execution_count": 2,
   "metadata": {},
   "outputs": [],
   "source": [
    "def get_col_names():\n",
    "    df = pd.read_csv(\"Data_Processed_New/NYISO_mobility_annotated.csv\")\n",
    "    df_cols = np.array(df.columns)\n",
    "    \n",
    "    response_col_name = df_cols[1]\n",
    "    weather_col_names = df_cols[2:7]\n",
    "    timestamp_col_names = df_cols[12:43]\n",
    "    holiday_col_names = [df_cols[43]]\n",
    "    mobility_col_names = df_cols[44:53]\n",
    "    \n",
    "    return response_col_name, weather_col_names, timestamp_col_names, holiday_col_names, mobility_col_names"
   ]
  },
  {
   "cell_type": "code",
   "execution_count": 3,
   "metadata": {},
   "outputs": [],
   "source": [
    "response_col_name, weather_col_names, timestamp_col_names, holiday_col_names, mobility_col_names = get_col_names()"
   ]
  },
  {
   "cell_type": "code",
   "execution_count": 4,
   "metadata": {},
   "outputs": [],
   "source": [
    "# The city_name field can take on \"Boston\", \"Chicago\", \"Dallas\", \"Houston\", \"Phil\", \"SA\", or \"Seattle\".\n",
    "def load_data(city_name, standardize = False, verbose = False, no_mobility = False):\n",
    "    df = np.genfromtxt('Data_Processed_New/City_Level/%s_mobility_all.csv' % city_name, delimiter=',')\n",
    "    \n",
    "    X_weather = df[:, 1:1+len(weather_col_names)].astype(float)\n",
    "    X_holiday = df[:, 1+len(holiday_col_names)+len(weather_col_names)+len(timestamp_col_names)].astype(float).reshape(-1, 1)\n",
    "    X_mobility = df[:, 1+len(holiday_col_names)+len(weather_col_names)+len(timestamp_col_names):].astype(float)    \n",
    "    if no_mobility:\n",
    "        X = np.hstack((X_weather, X_holiday))\n",
    "    else:\n",
    "        X = np.hstack((X_weather, X_holiday, X_mobility))\n",
    "    \n",
    "    if standardize: X = scale(X)\n",
    "    \n",
    "    timestamps = df[:, 1+len(weather_col_names):1+len(weather_col_names)+len(timestamp_col_names)].astype(int)\n",
    "    y = df[:, 0].astype(float)\n",
    "    \n",
    "    metadata = {\"city_name\" : city_name, \n",
    "                \"X_weather\" : X_weather, \n",
    "                \"X_holiday\": X_holiday,\n",
    "                \"X_mobility\" : X_mobility, \n",
    "                \"timestamps\" : timestamps}\n",
    "\n",
    "    if verbose:\n",
    "        print(city_name, \"Energy Consumption Data:\")\n",
    "        print(\"Sample size n =\", X.shape[0])\n",
    "        print(\"Number of weather features d_w =\", X_weather.shape[1])\n",
    "        print(\"Number of holiday features d_h =\", X_holiday.shape[1])\n",
    "        if not no_mobility:\n",
    "            print(\"Number of mobility features d_m =\", X_mobility.shape[1])\n",
    "        print(\"Total number features d =\", X.shape[1])\n",
    "    \n",
    "    return X, y, metadata"
   ]
  },
  {
   "cell_type": "code",
   "execution_count": 5,
   "metadata": {},
   "outputs": [
    {
     "name": "stdout",
     "output_type": "stream",
     "text": [
      "Boston Energy Consumption Data:\n",
      "Sample size n = 2184\n",
      "Number of weather features d_w = 5\n",
      "Number of holiday features d_h = 1\n",
      "Total number features d = 6\n"
     ]
    }
   ],
   "source": [
    "X, y, metadata = load_data(\"Boston\", verbose = True, no_mobility = True)"
   ]
  },
  {
   "cell_type": "code",
   "execution_count": 6,
   "metadata": {},
   "outputs": [],
   "source": [
    "# This function adds past output values as inputs. 'p' is the number of lagged values to append.\n",
    "# 'ps' is an array of lags. 'scales' is an array which determines the intervals of those lags.\n",
    "def append_past_outputs(X, y, p_hour, p_day, p_week):\n",
    "    X, y = check_X_y(X, y)\n",
    "    if p_hour == 0 and p_day == 0 and p_week == 0:\n",
    "        return X, y\n",
    "    \n",
    "    hour_time = 1\n",
    "    day_time = int(hour_time * 24)\n",
    "    week_time = int(day_time * 7)\n",
    "    \n",
    "    ps = [int(p_hour), int(p_day), int(p_week)]\n",
    "    times = [hour_time, day_time, week_time]\n",
    "    burnin = int(max(np.array(ps) * np.array(times)))\n",
    "    \n",
    "    n = len(X)\n",
    "    n_new = n - burnin\n",
    "    X_new = X[burnin:]\n",
    "    y_new = y[burnin:]\n",
    "    \n",
    "    # Make numpy array of indices, and use it to index/map y.\n",
    "    # i is the training example, j is the lag.\n",
    "    for p in range(3):\n",
    "        if ps[p] != 0:\n",
    "            idx = np.fromfunction(lambda i, j: burnin + i - times[p]*(j + 1), (n_new, ps[p]), dtype = np.int32)\n",
    "            X_new = np.hstack((X_new, y[idx]))\n",
    "    \n",
    "    return X_new, y_new"
   ]
  },
  {
   "cell_type": "code",
   "execution_count": 7,
   "metadata": {},
   "outputs": [],
   "source": [
    "# This function adds past output values as inputs. 'p' is the number of lagged values to append.\n",
    "# 'ps' is an array of lags. 'scales' is an array which determines the intervals of those lags.\n",
    "def append_past_inputs(X, y, p_hour, p_day, p_week):\n",
    "    X, y = check_X_y(X, y)\n",
    "    if p_hour == 0 and p_day == 0 and p_week == 0:\n",
    "        return X, y\n",
    "    \n",
    "    hour_time = 1\n",
    "    day_time = int(hour_time * 24)\n",
    "    week_time = int(day_time * 7)\n",
    "    \n",
    "    ps = [int(p_hour), int(p_day), int(p_week)]\n",
    "    times = [hour_time, day_time, week_time]\n",
    "    burnin = int(max(np.array(ps) * np.array(times)))\n",
    "    \n",
    "    n = len(X)\n",
    "    n_new = n - burnin\n",
    "    X_new = X[burnin:]\n",
    "    y_new = y[burnin:]\n",
    "    \n",
    "    # add hourly features from up to p_hour lags ago.\n",
    "    if p_hour != 0:\n",
    "        d = X_new.shape[1]\n",
    "        X_hour = np.zeros((n_new, int(p_hour)*d))\n",
    "        for i in range(n_new):\n",
    "            for j in range(int(p_hour)):\n",
    "                for k in range(d):\n",
    "                    X_hour[i, j*d+k] = X[burnin + i - (j + 1), k]\n",
    "        X_new = np.hstack((X_new, X_hour))\n",
    "    \n",
    "    # Make numpy array of indices, and use it to index/map y.\n",
    "    # i is the training example, j is the lag.\n",
    "    for p in range(1, 3):\n",
    "        if ps[p] != 0:\n",
    "            idx = np.fromfunction(lambda i, j: burnin + i - times[p]*(j + 1), (n_new, ps[p]), dtype = np.int32)\n",
    "            X_new = np.hstack((X_new, y[idx]))\n",
    "    \n",
    "    return X_new, y_new"
   ]
  },
  {
   "cell_type": "code",
   "execution_count": 8,
   "metadata": {},
   "outputs": [
    {
     "name": "stdout",
     "output_type": "stream",
     "text": [
      "Expected X size = (132, 11)\n",
      "Observed X size = (132, 11)\n",
      "Expected y size = (132,)\n",
      "Observed y size = (132,)\n",
      "Expected X[0] = [168. 1. 167. 1. 166. 1. 165. 1. 144. 120. 0.]\n",
      "Observed X[0] = [168.   1. 167.   1. 166.   1. 165.   1. 144. 120.   0.]\n"
     ]
    }
   ],
   "source": [
    "# Test append past values.\n",
    "n = 300\n",
    "d = 2\n",
    "\n",
    "X = np.hstack((np.arange(n).reshape((n,1)), np.ones((n, 1))))\n",
    "y = np.arange(n)\n",
    "\n",
    "p_hour = 3\n",
    "p_day = 2\n",
    "p_week = 1\n",
    "\n",
    "X, y = append_past_inputs(X, y, p_hour, p_day, p_week)\n",
    "\n",
    "print(\"Expected X size = (132, 11)\")\n",
    "print(\"Observed X size =\", X.shape)\n",
    "\n",
    "print(\"Expected y size = (132,)\")\n",
    "print(\"Observed y size =\", y.shape)\n",
    "\n",
    "print(\"Expected X[0] = [168. 1. 167. 1. 166. 1. 165. 1. 144. 120. 0.]\")\n",
    "print(\"Observed X[0] =\", X[0])"
   ]
  },
  {
   "cell_type": "code",
   "execution_count": 9,
   "metadata": {},
   "outputs": [],
   "source": [
    "# Because the data are time series, this can only be done with one fold.\n",
    "def train_val_test_split(X, y):\n",
    "    X, y = check_X_y(X, y)\n",
    "    \n",
    "    n = len(y)\n",
    "    n_train = int(0.8 * n)\n",
    "    n_val = (n - n_train) // 2\n",
    "    n_test = n - n_train - n_val\n",
    "    \n",
    "    X_train, y_train = X[:n_train], y[:n_train]\n",
    "    X_val, y_val = X[n_train:n_train+n_val], y[n_train:n_train+n_val]\n",
    "    X_test, y_test = X[n_train+n_val:], y[n_train+n_val:]\n",
    "    \n",
    "    return X_train, y_train, X_val, y_val, X_test, y_test"
   ]
  },
  {
   "cell_type": "code",
   "execution_count": 10,
   "metadata": {},
   "outputs": [
    {
     "name": "stdout",
     "output_type": "stream",
     "text": [
      "Expected y_test = [45 46 47 48 49]\n",
      "Observed y_test = [45 46 47 48 49]\n"
     ]
    }
   ],
   "source": [
    "# Test append past values.\n",
    "n = 50\n",
    "d = 10\n",
    "X = np.zeros((n, d))\n",
    "y = np.arange(n)\n",
    "\n",
    "X_train, y_train, X_val, y_val, X_test, y_test = train_val_test_split(X, y)\n",
    "\n",
    "print(\"Expected y_test = [45 46 47 48 49]\")\n",
    "print(\"Observed y_test =\", y_test)"
   ]
  },
  {
   "cell_type": "code",
   "execution_count": 11,
   "metadata": {},
   "outputs": [],
   "source": [
    "# generate hyper parameters array\n",
    "def sample_hyperparams(num_settings):\n",
    "    hyperparams = np.zeros((num_settings, 4))\n",
    "    for i in range(num_settings):\n",
    "        \n",
    "        hyperparams[i, 0] = 10 ** np.random.uniform(-3, 1) # regularization param\n",
    "        # hyperparams[i, 1] = np.random.randint(9) # p_hour\n",
    "        hyperparams[i, 2] = np.random.randint(6) # p_day\n",
    "        hyperparams[i, 3] = np.random.randint(3) # p_day\n",
    "    \n",
    "    return hyperparams"
   ]
  },
  {
   "cell_type": "code",
   "execution_count": 12,
   "metadata": {},
   "outputs": [
    {
     "name": "stdout",
     "output_type": "stream",
     "text": [
      "Expected shape of hyperparams = (100, 4)\n",
      "Observed shape of hyperparams = (100, 4)\n",
      "[6.98213488e-03 2.44352772e+00 4.83400453e+00 1.23135815e-01\n",
      " 1.54238555e-03 1.73344255e-03 3.97197165e-03 7.37929482e+00\n",
      " 1.39640627e-02]\n",
      "\n",
      " Plot should be discrete uniform over [0, 2], [0, 5], [0, 8], respectively\n"
     ]
    },
    {
     "data": {
      "text/plain": [
       "Text(0.5, 1.0, 'Distribution of SAR lags')"
      ]
     },
     "execution_count": 12,
     "metadata": {},
     "output_type": "execute_result"
    },
    {
     "data": {
      "image/png": "[encoded data removed]",
      "text/plain": [
       "<Figure size 432x288 with 1 Axes>"
      ]
     },
     "metadata": {
      "needs_background": "light"
     },
     "output_type": "display_data"
    }
   ],
   "source": [
    "num_settings = 100\n",
    "hyperparams = sample_hyperparams(num_settings)\n",
    "\n",
    "print(\"Expected shape of hyperparams = (100, 4)\")\n",
    "print(\"Observed shape of hyperparams =\", hyperparams.shape)\n",
    "\n",
    "# Check lambdas for log scale\n",
    "print(hyperparams[1:10, 0])\n",
    "\n",
    "# Check for uniformity.\n",
    "print(\"\\n Plot should be discrete uniform over [0, 2], [0, 5], [0, 8], respectively\")\n",
    "scales = [\"p_hour\", \"p_day\", \"p_week\"]\n",
    "for i in range(3):\n",
    "    plt.hist(hyperparams[:, i], label = scales[i], align = 'left')\n",
    "plt.legend()\n",
    "plt.title(\"Distribution of SAR lags\")"
   ]
  },
  {
   "cell_type": "code",
   "execution_count": 13,
   "metadata": {},
   "outputs": [],
   "source": [
    "def fit_model(model_name, X_train, y_train, lambda_):\n",
    "    if model_name == 'rf':\n",
    "        model = RandomForestRegressor(n_estimators=300)\n",
    "        return model.fit(X_train, y_train)\n",
    "    else:\n",
    "        model = Ridge(alpha=lambda_)\n",
    "        return model.fit(X_train, y_train)\n",
    "\n",
    "# relative error\n",
    "def mean_absolute_percentage_error(y_true, y_pred): \n",
    "    y_pred = check_array(y_pred, ensure_2d=False)\n",
    "    return np.mean(np.abs((y_true - y_pred) / y_true))\n",
    "\n",
    "def compute_error(model, X_val, y_val):\n",
    "    X_val, y_val = check_X_y(X_val, y_val)\n",
    "    y_pred = model.predict(X_val)\n",
    "    return mean_absolute_percentage_error(y_val, y_pred)\n",
    "\n",
    "def compute_cheat_test_error(model_name, X, y, hyperparams):\n",
    "    lambda_, p_hour, p_day, p_week = hyperparams[\"lambda\"], hyperparams[\"p_hour\"], hyperparams[\"p_day\"], hyperparams[\"p_week\"] \n",
    "    \n",
    "    X_aug, y_aug = append_past_outputs(X, y, p_hour, p_day, p_week)\n",
    "    X_train, y_train, X_val, y_val, X_test, y_test = train_val_test_split(X_aug, y_aug)\n",
    "    \n",
    "    X_full = np.vstack((X_train, X_val))\n",
    "    y_full = np.concatenate((y_train, y_val))\n",
    "    model = fit_model(model, X_full, y_full, lambda_)\n",
    "    \n",
    "    return compute_error(model, X_test, y_test), model"
   ]
  },
  {
   "cell_type": "code",
   "execution_count": 14,
   "metadata": {},
   "outputs": [
    {
     "name": "stdout",
     "output_type": "stream",
     "text": [
      "Expected relative error = 1.0\n",
      "Observed relative error = 1.0\n",
      "Expected relative error is very small.\n",
      "Observed relative error is 1.1724925517371533e-15\n"
     ]
    }
   ],
   "source": [
    "# Test rel_Error\n",
    "y_pred = np.array([0, 1, 2, 3])\n",
    "y_true = np.array([1, 1, 1, 1])\n",
    "rel_err = mean_absolute_percentage_error(y_true, y_pred)\n",
    "\n",
    "print(\"Expected relative error = 1.0\")\n",
    "print(\"Observed relative error =\", rel_err)\n",
    "\n",
    "# \"Test\" linear\n",
    "X = np.random.randn(10, 3)\n",
    "y = X[:, 0]\n",
    "X_train, y_train, X_val, y_val, X_test, y_test = train_val_test_split(X, y)\n",
    "model = fit_model('ridge', X_train, y_train, 0.0)\n",
    "print(\"Expected relative error is very small.\")\n",
    "print(\"Observed relative error is\", compute_error(model, X_val, y_val))"
   ]
  },
  {
   "cell_type": "markdown",
   "metadata": {},
   "source": [
    "Computing test error is a little bit tricky, as we will not have access to all of the features on the onset. Instead, we will need to predict them 24 hours in advance, and use the predictions as features for future predictions."
   ]
  },
  {
   "cell_type": "code",
   "execution_count": 15,
   "metadata": {},
   "outputs": [],
   "source": [
    "def compute_test_error(model_name, X, y, hyperparams):\n",
    "    lambda_, p_hour, p_day, p_week = hyperparams[\"lambda\"], hyperparams[\"p_hour\"], hyperparams[\"p_day\"], hyperparams[\"p_week\"] \n",
    "    \n",
    "    d = X.shape[1]\n",
    "    X_aug, y_aug = append_past_outputs(X, y, p_hour, p_day, p_week)\n",
    "    X_train, y_train, X_val, y_val, X_test, y_test = train_val_test_split(X_aug, y_aug)\n",
    "    \n",
    "    X_retrain = np.vstack((X_train, X_val))\n",
    "    y_retrain = np.concatenate((y_train, y_val))\n",
    "    model = fit_model(model_name, X_retrain, y_retrain, lambda_)\n",
    "                \n",
    "    return backtest_error(model, X_aug, y_test, p_hour, d), model\n",
    "\n",
    "def backtest_error(model, X_aug, y_test, p_hour, d):\n",
    "    # Compute error.\n",
    "    n_aug, d_aug = X_aug.shape\n",
    "    n_test = len(y_test)\n",
    "    n_retrain = n_aug - n_test\n",
    "    y_pred = np.zeros(n_test)\n",
    "    X = np.copy(X_aug) \n",
    "    for i in range(n_test):\n",
    "        # Index in time.\n",
    "        t = i + n_retrain\n",
    "        y_pred[i] = model.predict(X[t].reshape(1, -1))\n",
    "        \n",
    "        # Populate predictions.\n",
    "        for p in range(int(p_hour)):\n",
    "            if t + p < n_aug and d + p < d_aug:\n",
    "                X[t + p, d + p] = y_pred[i]\n",
    "    \n",
    "    return mean_absolute_percentage_error(y_test, y_pred)"
   ]
  },
  {
   "cell_type": "code",
   "execution_count": 16,
   "metadata": {},
   "outputs": [
    {
     "name": "stdout",
     "output_type": "stream",
     "text": [
      "Expected error = 6.333333333333333\n",
      "Observed error = 6.333333333333333\n"
     ]
    }
   ],
   "source": [
    "# Test backtest\n",
    "class TestModel():\n",
    "    def __init__(self, p_hour):\n",
    "        self.p_hour = p_hour\n",
    "    def predict(self, X):\n",
    "        X = check_array(X)\n",
    "        return X[:, self.p_hour] + X[:, self.p_hour + 1]\n",
    "\n",
    "p_hour = 2\n",
    "n = 5\n",
    "d = 2\n",
    "n_test = 3\n",
    "\n",
    "X_aug = np.hstack((np.zeros((n, d)), np.fromfunction(lambda i, j: i, (n, p_hour))))\n",
    "y_test = np.ones(n_test)\n",
    "model = TestModel(p_hour)\n",
    "\n",
    "err = backtest_error(model, X_aug, y_test, p_hour, d)\n",
    "\n",
    "# y_0 = 1; yhat_0 = X_2[2] + X_3[3] = 2 + 2 = 4. error = 3 / 1 = 3\n",
    "# y_1 = 1; yhat_1 = X_3[2] + X_3[3] = yhat_0 + X_3[3] = 4 + 3 = 7. error = 6 / 1 = 6\n",
    "# y_2 = 1; yhat_2 = X_4[2] + X_4[3] = yhat_1 + X_4[3] = 7 + 4 = 11. error = 10 / 1 = 10\n",
    "# avg = 19/3\n",
    "\n",
    "print(\"Expected error =\", 19/3)\n",
    "print(\"Observed error =\", err)"
   ]
  },
  {
   "cell_type": "code",
   "execution_count": 21,
   "metadata": {},
   "outputs": [],
   "source": [
    "def run_experiment(city_name, num_settings, model_name, no_mobility = False):\n",
    "    X, y, metadata = load_data(city_name, standardize = True, verbose = False, no_mobility = no_mobility)\n",
    "    hyperparams = sample_hyperparams(num_settings)\n",
    "\n",
    "    def worker(row):\n",
    "        # Collect hyperparameters.\n",
    "        lambda_, p_hour, p_day, p_week = row\n",
    "        \n",
    "        # Build features.\n",
    "        X_aug, y_aug = append_past_outputs(X, y, p_hour, p_day, p_week)\n",
    "        \n",
    "        # Latest timesteps are test, second latest are validation, rest is train.\n",
    "        X_train, y_train, X_val, y_val, X_test, y_test = train_val_test_split(X_aug, y_aug)\n",
    "        \n",
    "        # Compute validation error.\n",
    "        model = fit_model(model_name, X_train, y_train, lambda_)\n",
    "        rel_err = compute_error(model, X_val, y_val)\n",
    "\n",
    "        return rel_err\n",
    "\n",
    "    # non parallel version\n",
    "#     rel_errs = np.zeros(num_settings)\n",
    "#     for s in range(num_settings):\n",
    "#         rel_errs[s] = worker(hyperparams[s])\n",
    "        \n",
    "    rel_errs = np.array(Parallel(n_jobs=-2)(delayed(worker)(row) for row in hyperparams))\n",
    "    \n",
    "    argmin = np.argmin(rel_errs)\n",
    "    best_val_error = rel_errs[argmin]\n",
    "    best_hyperparams = {\n",
    "        \"lambda\" : hyperparams[argmin, 0],\n",
    "        \"p_hour\" : hyperparams[argmin, 1],\n",
    "        \"p_day\" : hyperparams[argmin, 2],\n",
    "        \"p_week\" : hyperparams[argmin, 3]\n",
    "    }\n",
    "    \n",
    "    print(\"City:\", city_name)\n",
    "    if no_mobility:\n",
    "        print(\"No mobility features used.\")\n",
    "    print(\"Best relative validation error:\", best_val_error)\n",
    "    print(\"Best hyperparmeters:\")\n",
    "    print(best_hyperparams)\n",
    "    print(\"model:\", model_name)\n",
    "    \n",
    "    # Compute test loss error.\n",
    "    test_error, model = compute_test_error(model_name, X, y, best_hyperparams)\n",
    "    print(\"Test error: \", test_error)\n",
    "    \n",
    "    result = {\n",
    "        'model' : model,\n",
    "        'best_val_error' : best_val_error,\n",
    "        'best_hyperparams' : best_hyperparams,\n",
    "        'test_error' : test_error\n",
    "    }\n",
    "    return result"
   ]
  },
  {
   "cell_type": "code",
   "execution_count": 22,
   "metadata": {},
   "outputs": [
    {
     "name": "stdout",
     "output_type": "stream",
     "text": [
      "City: Seattle\n",
      "No mobility features used.\n",
      "Best relative validation error: 0.03862828435955593\n",
      "Best hyperparmeters:\n",
      "{'lambda': 0.0015532228836670863, 'p_hour': 0.0, 'p_day': 5.0, 'p_week': 0.0}\n",
      "model: ridge\n",
      "Test error:  0.044520386310836275\n"
     ]
    }
   ],
   "source": [
    "city_name = \"Seattle\"\n",
    "num_settings = 100\n",
    "model_name = 'ridge'\n",
    "no_mobility = True\n",
    "\n",
    "result = run_experiment(city_name, num_settings, model_name, no_mobility = no_mobility)"
   ]
  },
  {
   "cell_type": "code",
   "execution_count": 24,
   "metadata": {},
   "outputs": [
    {
     "name": "stdout",
     "output_type": "stream",
     "text": [
      "City: Boston\n",
      "No mobility features used.\n",
      "Best relative validation error: 0.03289964629910225\n",
      "Best hyperparmeters:\n",
      "{'lambda': 1.0485716889386631, 'p_hour': 0.0, 'p_day': 3.0, 'p_week': 2.0}\n",
      "model: ridge\n",
      "Test error:  0.04465882536550039\n"
     ]
    }
   ],
   "source": [
    "city_name = \"Boston\"\n",
    "num_settings = 100\n",
    "model_name = 'ridge'\n",
    "no_mobility = True\n",
    "\n",
    "result = run_experiment(city_name, num_settings, model_name, no_mobility = no_mobility)"
   ]
  },
  {
   "cell_type": "code",
   "execution_count": 25,
   "metadata": {},
   "outputs": [
    {
     "name": "stdout",
     "output_type": "stream",
     "text": [
      "City: SA\n",
      "No mobility features used.\n",
      "Best relative validation error: 0.06025330553247977\n",
      "Best hyperparmeters:\n",
      "{'lambda': 0.006702660078940776, 'p_hour': 0.0, 'p_day': 4.0, 'p_week': 1.0}\n",
      "model: ridge\n",
      "Test error:  0.0999791822785781\n"
     ]
    }
   ],
   "source": [
    "city_name = \"SA\"\n",
    "num_settings = 40\n",
    "model_name = 'ridge'\n",
    "no_mobility = True\n",
    "\n",
    "result = run_experiment(city_name, num_settings, model_name, no_mobility = no_mobility)"
   ]
  },
  {
   "cell_type": "code",
   "execution_count": 26,
   "metadata": {},
   "outputs": [
    {
     "name": "stdout",
     "output_type": "stream",
     "text": [
      "City: Houston\n",
      "Best relative validation error: 0.042110193605167844\n",
      "Best hyperparmeters:\n",
      "{'lambda': 0.011697476571696886, 'p_hour': 0.0, 'p_day': 1.0, 'p_week': 0.0}\n",
      "model: ridge\n",
      "Test error:  0.10953733875783513\n"
     ]
    }
   ],
   "source": [
    "city_name = \"Houston\"\n",
    "num_settings = 40\n",
    "model_name = 'ridge'\n",
    "no_mobility = False\n",
    "\n",
    "result = run_experiment(city_name, num_settings, model_name, no_mobility = no_mobility)"
   ]
  },
  {
   "cell_type": "code",
   "execution_count": 27,
   "metadata": {},
   "outputs": [
    {
     "name": "stdout",
     "output_type": "stream",
     "text": [
      "City: Chicago\n",
      "No mobility features used.\n",
      "Best relative validation error: 0.028571289272884545\n",
      "Best hyperparmeters:\n",
      "{'lambda': 0.06339070472897894, 'p_hour': 0.0, 'p_day': 4.0, 'p_week': 1.0}\n",
      "model: ridge\n",
      "Test error:  0.041161566939127425\n"
     ]
    }
   ],
   "source": [
    "city_name = \"Chicago\"\n",
    "num_settings = 40\n",
    "model_name = 'ridge'\n",
    "no_mobility = True\n",
    "\n",
    "result = run_experiment(city_name, num_settings, model_name, no_mobility = no_mobility)"
   ]
  },
  {
   "cell_type": "code",
   "execution_count": null,
   "metadata": {},
   "outputs": [],
   "source": []
  }
 ],
 "metadata": {
  "kernelspec": {
   "display_name": "Python 3",
   "language": "python",
   "name": "python3"
  },
  "language_info": {
   "codemirror_mode": {
    "name": "ipython",
    "version": 3
   },
   "file_extension": ".py",
   "mimetype": "text/x-python",
   "name": "python",
   "nbconvert_exporter": "python",
   "pygments_lexer": "ipython3",
   "version": "3.8.2"
  }
 },
 "nbformat": 4,
 "nbformat_minor": 4
}
