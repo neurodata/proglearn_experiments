{
 "cells": [
  {
   "cell_type": "code",
   "execution_count": 15,
   "metadata": {},
   "outputs": [],
   "source": [
    "import numpy as np\n",
    "import pickle\n",
    "import matplotlib.pyplot as plt\n",
    "\n",
    "from sklearn.metrics import classification_report, accuracy_score"
   ]
  },
  {
   "cell_type": "code",
   "execution_count": 3,
   "metadata": {},
   "outputs": [],
   "source": [
    "num_estimators = 10"
   ]
  },
  {
   "cell_type": "code",
   "execution_count": 12,
   "metadata": {},
   "outputs": [],
   "source": [
    "def zero_shot_acc(multitask_id):\n",
    "    # Get p(y | x, t). This should be (n * 1) array, with n = the number of test examples from the target task.\n",
    "    y_test = pickle.load(open(\"output/y_test_%d.p\" % multitask_id, \"rb\"))\n",
    "    task_cond_probs = pickle.load(open(\"output/probs_%d.p\" % multitask_id, \"rb\"))\n",
    "    task_prior_probs_target = pickle.load(open(\"output/task_prior_probs_target_%d_%d.p\" % (num_estimators, multitask_id), \"rb\"))\n",
    "    \n",
    "    print(\"y_test shape: \", y_test.shape) # should be n by 1\n",
    "    print(\"task_cond_probs shape: \", task_cond_probs.shape) # should be n by 4\n",
    "    print(\"task_prior_probs_target shape: \", task_prior_probs_target.shape) # should be n by 2\n",
    "    \n",
    "    source_0_class_0 = task_cond_probs[:, 0] * task_prior_probs_target[:, 0]\n",
    "    source_0_class_1 = task_cond_probs[:, 1] * task_prior_probs_target[:, 0]\n",
    "    source_1_class_0 = task_cond_probs[:, 2] * task_prior_probs_target[:, 1]\n",
    "    source_1_class_1 = task_cond_probs[:, 3] * task_prior_probs_target[:, 1]\n",
    "\n",
    "    class_0 = source_0_class_0 + source_1_class_0\n",
    "    class_1 = source_0_class_1 + source_1_class_1\n",
    "\n",
    "    y_pred = (class_1 > 0.5).astype(int)\n",
    "\n",
    "    return accuracy_score(y_test, y_pred)"
   ]
  },
  {
   "cell_type": "code",
   "execution_count": 9,
   "metadata": {},
   "outputs": [],
   "source": [
    "def task_aware_acc(multitask_id):\n",
    "    # Get p(y | x, t). This should be (n * 1) array, with n = the number of test examples from the target task.\n",
    "    y_test = pickle.load(open(\"output/y_test_%d.p\" % multitask_id, \"rb\"))\n",
    "    task_cond_probs = pickle.load(open(\"output/probs_%d.p\" % multitask_id, \"rb\"))\n",
    " \n",
    "    class_1 = task_cond_probs[:, 1]\n",
    "\n",
    "    y_pred = (class_1 > 0.5).astype(int)\n",
    "\n",
    "    return accuracy_score(y_test, y_pred)"
   ]
  },
  {
   "cell_type": "code",
   "execution_count": 13,
   "metadata": {},
   "outputs": [
    {
     "name": "stdout",
     "output_type": "stream",
     "text": [
      "y_test shape:  (38000,)\n",
      "task_cond_probs shape:  (38000, 4)\n",
      "task_prior_probs_target shape:  (38000, 2)\n",
      "y_test shape:  (5000,)\n",
      "task_cond_probs shape:  (5000, 4)\n",
      "task_prior_probs_target shape:  (5000, 2)\n",
      "y_test shape:  (300000,)\n",
      "task_cond_probs shape:  (300000, 4)\n",
      "task_prior_probs_target shape:  (300000, 2)\n",
      "{'yelp': 0.853421052631579, 'imdb': 0.79, 'amazon': 0.8060566666666666}\n"
     ]
    }
   ],
   "source": [
    "zero_shot_accs = {\n",
    "    'yelp' : zero_shot_acc(0),\n",
    "    'imdb' : zero_shot_acc(1),\n",
    "    'amazon' : zero_shot_acc(2)\n",
    "}\n",
    "\n",
    "print(zero_shot_accs)"
   ]
  },
  {
   "cell_type": "code",
   "execution_count": 10,
   "metadata": {},
   "outputs": [
    {
     "name": "stdout",
     "output_type": "stream",
     "text": [
      "{'yelp': 0.8692894736842105, 'imdb': 0.7964, 'amazon': 0.8130933333333333}\n"
     ]
    }
   ],
   "source": [
    "task_aware_accs = {\n",
    "    'yelp' : task_aware_acc(10),\n",
    "    'imdb' : task_aware_acc(11),\n",
    "    'amazon' : task_aware_acc(12)\n",
    "}\n",
    "\n",
    "print(task_aware_accs)"
   ]
  },
  {
   "cell_type": "code",
   "execution_count": 14,
   "metadata": {},
   "outputs": [
    {
     "name": "stdout",
     "output_type": "stream",
     "text": [
      "{'yelp': 0.8597368421052631, 'imdb': 0.7892, 'amazon': 0.8178566666666667}\n"
     ]
    }
   ],
   "source": [
    "single_task_accs = {\n",
    "    'yelp' : task_aware_acc(20),\n",
    "    'imdb' : task_aware_acc(21),\n",
    "    'amazon' : task_aware_acc(22)\n",
    "}\n",
    "\n",
    "print(single_task_accs)"
   ]
  },
  {
   "cell_type": "code",
   "execution_count": 36,
   "metadata": {},
   "outputs": [],
   "source": [
    "def plot_result(single_task_accs, task_aware_accs, zero_shot_accs):\n",
    "    x = np.array([0, 1, 2])\n",
    "    \n",
    "    datasets = ['yelp', 'imdb', 'amazon']\n",
    "    y = [single_task_accs[dataset] for dataset in datasets]\n",
    "    z = [task_aware_accs[dataset] for dataset in datasets]\n",
    "    k = [zero_shot_accs[dataset] for dataset in datasets]\n",
    "\n",
    "    ax = plt.subplot(111)\n",
    "    ax.bar(x - 0.2, y, width=0.2, color='b', align='center', label = 'Single Task')\n",
    "    ax.bar(x, z, width=0.2, color='g', align='center', label = 'Task Aware')\n",
    "    ax.bar(x + 0.2, k, width=0.2, color='r', align='center', label = 'Zero Shot')\n",
    "    ax.legend(loc = 'upper right')\n",
    "    \n",
    "    ax.set_xticks([0, 1, 2])\n",
    "    ax.set_xticklabels(['Yelp', 'IMDB', 'Amazon'])\n",
    "    \n",
    "    ax.set_ylim(0.5, 1)\n",
    "\n",
    "    plt.show()"
   ]
  },
  {
   "cell_type": "code",
   "execution_count": 37,
   "metadata": {},
   "outputs": [
    {
     "data": {
      "image/png": "[encoded data removed]",
      "text/plain": [
       "<Figure size 432x288 with 1 Axes>"
      ]
     },
     "metadata": {
      "needs_background": "light"
     },
     "output_type": "display_data"
    }
   ],
   "source": [
    "plot_result(single_task_accs, task_aware_accs, zero_shot_accs)"
   ]
  },
  {
   "cell_type": "code",
   "execution_count": null,
   "metadata": {},
   "outputs": [],
   "source": []
  }
 ],
 "metadata": {
  "kernelspec": {
   "display_name": "Python 3",
   "language": "python",
   "name": "python3"
  },
  "language_info": {
   "codemirror_mode": {
    "name": "ipython",
    "version": 3
   },
   "file_extension": ".py",
   "mimetype": "text/x-python",
   "name": "python",
   "nbconvert_exporter": "python",
   "pygments_lexer": "ipython3",
   "version": "3.8.2"
  }
 },
 "nbformat": 4,
 "nbformat_minor": 4
}
