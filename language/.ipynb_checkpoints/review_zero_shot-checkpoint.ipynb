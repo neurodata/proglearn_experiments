{
 "cells": [
  {
   "cell_type": "code",
   "execution_count": 1,
   "metadata": {},
   "outputs": [],
   "source": [
    "import numpy as np\n",
    "import pickle\n",
    "\n",
    "from sklearn.metrics import classification_report"
   ]
  },
  {
   "cell_type": "code",
   "execution_count": 5,
   "metadata": {},
   "outputs": [],
   "source": [
    "multitask_id = 0\n",
    "num_estimators = 10"
   ]
  },
  {
   "cell_type": "code",
   "execution_count": null,
   "metadata": {},
   "outputs": [],
   "source": [
    "def show_result(multitask_id):\n",
    "    # Get p(y | x, t). This should be (n * 1) array, with n = the number of test examples from the target task.\n",
    "    y_test = pickle.load(open(\"output/y_test_%d.p\" % multitask_id, \"rb\"))\n",
    "    task_cond_probs = pickle.load(open(\"output/probs_%d.p\" % multitask_id, \"rb\"))\n",
    "    task_prior_probs_target = pickle.load(open(\"output/task_prior_probs_target_%d_%d.p\" % (num_estimators, multitask_id), \"rb\"))\n",
    "    \n",
    "    print(\"y_test shape: \", y_test.shape) # should be n by 1\n",
    "    print(\"task_cond_probs shape: \", task_cond_probs.shape) # should be n by 4\n",
    "    print(\"task_prior_probs_target shape: \", task_prior_probs_target.shape) # should be n by 2\n",
    "    \n",
    "    source_0_class_0 = task_cond_probs[:, 0] * task_prior_probs_target[:, 0]\n",
    "    source_0_class_1 = task_cond_probs[:, 1] * task_prior_probs_target[:, 0]\n",
    "    source_1_class_0 = task_cond_probs[:, 2] * task_prior_probs_target[:, 1]\n",
    "    source_1_class_1 = task_cond_probs[:, 3] * task_prior_probs_target[:, 1]\n",
    "\n",
    "    class_0 = source_0_class_0 + source_1_class_0\n",
    "    class_1 = source_0_class_1 + source_1_class_1\n",
    "\n",
    "    y_pred = (class_1 > 0.5).astype(int)\n",
    "\n",
    "    report = classification_report(y_test, y_pred)\n",
    "    print(report)"
   ]
  },
  {
   "cell_type": "code",
   "execution_count": 6,
   "metadata": {},
   "outputs": [],
   "source": [
    "# Get p(y | x, t). This should be (n * 1) array, with n = the number of test examples from the target task.\n",
    "y_test = pickle.load(open(\"output/y_test_%d.p\" % multitask_id, \"rb\"))\n",
    "task_cond_probs = pickle.load(open(\"output/probs_%d.p\" % multitask_id, \"rb\"))\n",
    "task_prior_probs_target = pickle.load(open(\"output/task_prior_probs_target_%d_%d.p\" % (num_estimators, multitask_id), \"rb\"))"
   ]
  },
  {
   "cell_type": "code",
   "execution_count": 7,
   "metadata": {},
   "outputs": [
    {
     "name": "stdout",
     "output_type": "stream",
     "text": [
      "y_test shape:  (38000,)\n",
      "task_cond_probs shape:  (38000, 4)\n",
      "task_prior_probs_target shape:  (38000, 2)\n"
     ]
    }
   ],
   "source": [
    "print(\"y_test shape: \", y_test.shape) # should be n by 1\n",
    "print(\"task_cond_probs shape: \", task_cond_probs.shape) # should be n by 4\n",
    "print(\"task_prior_probs_target shape: \", task_prior_probs_target.shape) # should be n by 2"
   ]
  },
  {
   "cell_type": "code",
   "execution_count": 8,
   "metadata": {},
   "outputs": [],
   "source": [
    "source_0_class_0 = task_cond_probs[:, 0] * task_prior_probs_target[:, 0]\n",
    "source_0_class_1 = task_cond_probs[:, 1] * task_prior_probs_target[:, 0]\n",
    "source_1_class_0 = task_cond_probs[:, 2] * task_prior_probs_target[:, 1]\n",
    "source_1_class_1 = task_cond_probs[:, 3] * task_prior_probs_target[:, 1]"
   ]
  },
  {
   "cell_type": "code",
   "execution_count": 11,
   "metadata": {},
   "outputs": [
    {
     "name": "stdout",
     "output_type": "stream",
     "text": [
      "[1. 1. 1. 1. 1. 1. 1. 1. 1. 1.]\n"
     ]
    }
   ],
   "source": [
    "class_0 = source_0_class_0 + source_1_class_0\n",
    "class_1 = source_0_class_1 + source_1_class_1\n",
    "\n",
    "# Should add up to 1.\n",
    "print((class_0 + class_1)[0:10])"
   ]
  },
  {
   "cell_type": "code",
   "execution_count": 12,
   "metadata": {},
   "outputs": [
    {
     "name": "stdout",
     "output_type": "stream",
     "text": [
      "              precision    recall  f1-score   support\n",
      "\n",
      "           0       0.90      0.79      0.84     19000\n",
      "           1       0.82      0.91      0.86     19000\n",
      "\n",
      "    accuracy                           0.85     38000\n",
      "   macro avg       0.86      0.85      0.85     38000\n",
      "weighted avg       0.86      0.85      0.85     38000\n",
      "\n"
     ]
    }
   ],
   "source": [
    "y_pred = (class_1 > 0.5).astype(int)\n",
    "\n",
    "report = classification_report(y_test, y_pred)\n",
    "print(report)"
   ]
  },
  {
   "cell_type": "code",
   "execution_count": null,
   "metadata": {},
   "outputs": [],
   "source": []
  }
 ],
 "metadata": {
  "kernelspec": {
   "display_name": "Python 3",
   "language": "python",
   "name": "python3"
  },
  "language_info": {
   "codemirror_mode": {
    "name": "ipython",
    "version": 3
   },
   "file_extension": ".py",
   "mimetype": "text/x-python",
   "name": "python",
   "nbconvert_exporter": "python",
   "pygments_lexer": "ipython3",
   "version": "3.8.2"
  }
 },
 "nbformat": 4,
 "nbformat_minor": 4
}
