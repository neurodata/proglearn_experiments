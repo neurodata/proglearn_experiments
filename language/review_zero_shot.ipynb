{
 "cells": [
  {
   "cell_type": "code",
   "execution_count": 1,
   "metadata": {},
   "outputs": [],
   "source": [
    "import numpy as np\n",
    "import pickle\n",
    "\n",
    "from sklearn.metrics import classification_report"
   ]
  },
  {
   "cell_type": "code",
   "execution_count": 2,
   "metadata": {},
   "outputs": [],
   "source": [
    "num_estimators = 10"
   ]
  },
  {
   "cell_type": "code",
   "execution_count": 3,
   "metadata": {},
   "outputs": [],
   "source": [
    "def show_result(multitask_id):\n",
    "    # Get p(y | x, t). This should be (n * 1) array, with n = the number of test examples from the target task.\n",
    "    y_test = pickle.load(open(\"output/y_test_%d.p\" % multitask_id, \"rb\"))\n",
    "    task_cond_probs = pickle.load(open(\"output/probs_%d.p\" % multitask_id, \"rb\"))\n",
    "    task_prior_probs_target = pickle.load(open(\"output/task_prior_probs_target_%d_%d.p\" % (num_estimators, multitask_id), \"rb\"))\n",
    "    \n",
    "    print(\"y_test shape: \", y_test.shape) # should be n by 1\n",
    "    print(\"task_cond_probs shape: \", task_cond_probs.shape) # should be n by 4\n",
    "    print(\"task_prior_probs_target shape: \", task_prior_probs_target.shape) # should be n by 2\n",
    "    \n",
    "    source_0_class_0 = task_cond_probs[:, 0] * task_prior_probs_target[:, 0]\n",
    "    source_0_class_1 = task_cond_probs[:, 1] * task_prior_probs_target[:, 0]\n",
    "    source_1_class_0 = task_cond_probs[:, 2] * task_prior_probs_target[:, 1]\n",
    "    source_1_class_1 = task_cond_probs[:, 3] * task_prior_probs_target[:, 1]\n",
    "\n",
    "    class_0 = source_0_class_0 + source_1_class_0\n",
    "    class_1 = source_0_class_1 + source_1_class_1\n",
    "\n",
    "    y_pred = (class_1 > 0.5).astype(int)\n",
    "\n",
    "    report = classification_report(y_test, y_pred)\n",
    "    print(report)"
   ]
  },
  {
   "cell_type": "code",
   "execution_count": 4,
   "metadata": {},
   "outputs": [
    {
     "name": "stdout",
     "output_type": "stream",
     "text": [
      "y_test shape:  (38000,)\n",
      "task_cond_probs shape:  (38000, 4)\n",
      "task_prior_probs_target shape:  (38000, 2)\n",
      "              precision    recall  f1-score   support\n",
      "\n",
      "           0       0.90      0.79      0.84     19000\n",
      "           1       0.82      0.91      0.86     19000\n",
      "\n",
      "    accuracy                           0.85     38000\n",
      "   macro avg       0.86      0.85      0.85     38000\n",
      "weighted avg       0.86      0.85      0.85     38000\n",
      "\n"
     ]
    }
   ],
   "source": [
    "# target: yelp\n",
    "show_result(0)"
   ]
  },
  {
   "cell_type": "code",
   "execution_count": 5,
   "metadata": {},
   "outputs": [
    {
     "name": "stdout",
     "output_type": "stream",
     "text": [
      "y_test shape:  (5000,)\n",
      "task_cond_probs shape:  (5000, 4)\n",
      "task_prior_probs_target shape:  (5000, 2)\n",
      "              precision    recall  f1-score   support\n",
      "\n",
      "           0       0.76      0.85      0.80      2481\n",
      "           1       0.83      0.73      0.78      2519\n",
      "\n",
      "    accuracy                           0.79      5000\n",
      "   macro avg       0.79      0.79      0.79      5000\n",
      "weighted avg       0.79      0.79      0.79      5000\n",
      "\n"
     ]
    }
   ],
   "source": [
    "# target: imdb\n",
    "show_result(1)"
   ]
  },
  {
   "cell_type": "code",
   "execution_count": 6,
   "metadata": {},
   "outputs": [
    {
     "name": "stdout",
     "output_type": "stream",
     "text": [
      "y_test shape:  (300000,)\n",
      "task_cond_probs shape:  (300000, 4)\n",
      "task_prior_probs_target shape:  (300000, 2)\n",
      "              precision    recall  f1-score   support\n",
      "\n",
      "         0.0       0.91      0.68      0.78    149921\n",
      "         1.0       0.75      0.93      0.83    150079\n",
      "\n",
      "    accuracy                           0.81    300000\n",
      "   macro avg       0.83      0.81      0.80    300000\n",
      "weighted avg       0.83      0.81      0.80    300000\n",
      "\n"
     ]
    }
   ],
   "source": [
    "# target: amazon\n",
    "show_result(2)"
   ]
  },
  {
   "cell_type": "code",
   "execution_count": null,
   "metadata": {},
   "outputs": [],
   "source": []
  }
 ],
 "metadata": {
  "kernelspec": {
   "display_name": "Python 3",
   "language": "python",
   "name": "python3"
  },
  "language_info": {
   "codemirror_mode": {
    "name": "ipython",
    "version": 3
   },
   "file_extension": ".py",
   "mimetype": "text/x-python",
   "name": "python",
   "nbconvert_exporter": "python",
   "pygments_lexer": "ipython3",
   "version": "3.8.2"
  }
 },
 "nbformat": 4,
 "nbformat_minor": 4
}
