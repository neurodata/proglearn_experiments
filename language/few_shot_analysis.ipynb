{
 "cells": [
  {
   "cell_type": "code",
   "execution_count": 2,
   "metadata": {},
   "outputs": [],
   "source": [
    "import numpy as np\n",
    "import pickle\n",
    "import matplotlib.pyplot as plt\n",
    "\n",
    "from utils import load_toxic_comment"
   ]
  },
  {
   "cell_type": "code",
   "execution_count": 3,
   "metadata": {},
   "outputs": [],
   "source": [
    "subsample_fracs = pickle.load(open(\"output/tf_subsample_fracs.p\", \"rb\"))\n",
    "tf_reports = pickle.load(open(\"output/tf_accs.p\", \"rb\"))\n",
    "uf_reports = pickle.load(open(\"output/uf_accs.p\", \"rb\"))"
   ]
  },
  {
   "cell_type": "code",
   "execution_count": 4,
   "metadata": {},
   "outputs": [
    {
     "name": "stdout",
     "output_type": "stream",
     "text": [
      "'X_train' and 'X_test' are each an n-by-d array of BERT embedded reviews of a business.\n",
      "'y_train' and 'y_test' are each list of multilabel binary sentiments, \n",
      "                where the columns indicate 'toxic', 'severe_toxic', 'obscene', 'threat', \n",
      "                'insult', 'identity_hate', and 'not_toxic', in that order.\n",
      "Number of training examples = 159571\n",
      "Input dimension d = 512\n",
      "Number of testing examples = 63978\n"
     ]
    }
   ],
   "source": [
    "X_train, y_train, X_test, y_test = load_toxic_comment(verbose=True)"
   ]
  },
  {
   "cell_type": "code",
   "execution_count": 7,
   "metadata": {},
   "outputs": [],
   "source": [
    "n_train = len(X_train)\n",
    "n_sizes = n_train * np.array(subsample_fracs)\n",
    "\n",
    "label_names = ['Toxic', 'Severely Toxic', 'Obscene', 'Threat', 'Insult', 'Identity Hate']\n",
    "metric_names = ['precision', 'recall', 'f1-score']"
   ]
  },
  {
   "cell_type": "code",
   "execution_count": 10,
   "metadata": {},
   "outputs": [],
   "source": [
    "def get_metrics(metric_name, label_idx, algo = 'tf'):\n",
    "    \n",
    "    reports = tf_reports if algo == 'tf' else uf_reports\n",
    "    metrics = []\n",
    "    \n",
    "    for report in reports:\n",
    "        metrics_n = []\n",
    "        for report_n in report:\n",
    "            metrics_n.append(report_n['label %d' % (label_idx + 1)][metric_name])\n",
    "            \n",
    "        metrics.append(np.mean(metrics_n))\n",
    "        \n",
    "    return metrics\n",
    "\n",
    "def plot_ax(ax, n_sizes, uf_metrics, tf_metrics):\n",
    "    ax.plot(n_sizes, tf_metrics, 'r', linewidth=4, label = 'TF')\n",
    "    ax.plot(n_sizes, uf_metrics, 'b', linewidth=4, label = 'UF')\n",
    "    ax.set_xscale(\"log\")\n",
    "    \n",
    "def plot_figure():\n",
    "    pass"
   ]
  },
  {
   "cell_type": "code",
   "execution_count": 13,
   "metadata": {},
   "outputs": [
    {
     "name": "stdout",
     "output_type": "stream",
     "text": [
      "              precision    recall  f1-score   support\n",
      "\n",
      "           0       1.00      0.00      0.00      6090\n",
      "           1       1.00      0.00      0.00       367\n",
      "           2       1.00      0.00      0.00      3691\n",
      "           3       1.00      0.00      0.00       211\n",
      "           4       1.00      0.00      0.00      3427\n",
      "           5       1.00      0.00      0.00       712\n",
      "\n",
      "   micro avg       1.00      0.00      0.00     14498\n",
      "   macro avg       1.00      0.00      0.00     14498\n",
      "weighted avg       1.00      0.00      0.00     14498\n",
      " samples avg       1.00      0.90      0.90     14498\n",
      "\n"
     ]
    },
    {
     "ename": "TypeError",
     "evalue": "string indices must be integers",
     "output_type": "error",
     "traceback": [
      "\u001b[0;31m---------------------------------------------------------------------------\u001b[0m",
      "\u001b[0;31mTypeError\u001b[0m                                 Traceback (most recent call last)",
      "\u001b[0;32m<ipython-input-13-a2c49641a3eb>\u001b[0m in \u001b[0;36m<module>\u001b[0;34m\u001b[0m\n\u001b[1;32m      4\u001b[0m     \u001b[0;32mfor\u001b[0m \u001b[0mreport\u001b[0m \u001b[0;32min\u001b[0m \u001b[0mreport_list\u001b[0m\u001b[0;34m:\u001b[0m\u001b[0;34m\u001b[0m\u001b[0;34m\u001b[0m\u001b[0m\n\u001b[1;32m      5\u001b[0m         \u001b[0mprint\u001b[0m\u001b[0;34m(\u001b[0m\u001b[0mreport\u001b[0m\u001b[0;34m)\u001b[0m\u001b[0;34m\u001b[0m\u001b[0;34m\u001b[0m\u001b[0m\n\u001b[0;32m----> 6\u001b[0;31m         \u001b[0mlabel_dict\u001b[0m \u001b[0;34m=\u001b[0m \u001b[0mreport\u001b[0m\u001b[0;34m[\u001b[0m\u001b[0;34m'label 1'\u001b[0m\u001b[0;34m]\u001b[0m\u001b[0;34m\u001b[0m\u001b[0;34m\u001b[0m\u001b[0m\n\u001b[0m\u001b[1;32m      7\u001b[0m         \u001b[0mprint\u001b[0m\u001b[0;34m(\u001b[0m\u001b[0mlabel_dict\u001b[0m\u001b[0;34m)\u001b[0m\u001b[0;34m\u001b[0m\u001b[0;34m\u001b[0m\u001b[0m\n\u001b[1;32m      8\u001b[0m         \u001b[0mnum\u001b[0m \u001b[0;34m=\u001b[0m \u001b[0mlabel_dic\u001b[0m\u001b[0;34m[\u001b[0m\u001b[0;34m'precision'\u001b[0m\u001b[0;34m]\u001b[0m\u001b[0;34m\u001b[0m\u001b[0;34m\u001b[0m\u001b[0m\n",
      "\u001b[0;31mTypeError\u001b[0m: string indices must be integers"
     ]
    }
   ],
   "source": [
    "metrics = []\n",
    "for report_list in tf_reports:\n",
    "    metrics_n = []\n",
    "    for report in report_list:\n",
    "        print(report)\n",
    "        label_dict = report['label 1']\n",
    "        print(label_dict)\n",
    "        num = label_dic['precision']\n",
    "        print(num)\n",
    "        metrics_n.append(num)\n",
    "\n",
    "    metrics.append(np.mean(metrics_n))\n",
    "    \n",
    "print(metrics)"
   ]
  },
  {
   "cell_type": "code",
   "execution_count": null,
   "metadata": {},
   "outputs": [],
   "source": []
  }
 ],
 "metadata": {
  "kernelspec": {
   "display_name": "Python 3",
   "language": "python",
   "name": "python3"
  },
  "language_info": {
   "codemirror_mode": {
    "name": "ipython",
    "version": 3
   },
   "file_extension": ".py",
   "mimetype": "text/x-python",
   "name": "python",
   "nbconvert_exporter": "python",
   "pygments_lexer": "ipython3",
   "version": "3.8.2"
  }
 },
 "nbformat": 4,
 "nbformat_minor": 4
}
